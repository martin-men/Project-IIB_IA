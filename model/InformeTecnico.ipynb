{
 "cells": [
  {
   "cell_type": "markdown",
   "id": "b6bf0cd6-0477-4e52-9601-27e836e0fdcb",
   "metadata": {},
   "source": [
    "---\n",
    "title: \"Informe Técnico: Proyecto Segundo Bimestre - IAyAA\"\n",
    "author: \" Colcha. A., Charro.D., Chango. G., Mendieta. M., Moyano. S., Christopher. Z.\"\n",
    "lang: es\n",
    "format:\n",
    "    pdf:\n",
    "        toc: true\n",
    "        toc-depth: 8\n",
    "execute:\n",
    "    echo: true\n",
    "    error: false\n",
    "    warning: false\n",
    "code-fold: true\n",
    "jupyter: python3\n",
    "---"
   ]
  },
  {
   "cell_type": "markdown",
   "id": "285959c4-dbc1-4ac1-8f39-31104b672a56",
   "metadata": {},
   "source": [
    "### Introducción"
   ]
  },
  {
   "cell_type": "markdown",
   "id": "11b5b76e-f5c0-47fe-b62d-1b92bd17cb86",
   "metadata": {},
   "source": [
    "### Desarrollo"
   ]
  },
  {
   "cell_type": "markdown",
   "id": "dbac43d8-be29-485a-a701-0682d11fbbf4",
   "metadata": {},
   "source": [
    "Cargamos las librerías y leemos el dataset completo"
   ]
  },
  {
   "cell_type": "code",
   "execution_count": 154,
   "id": "2d980eae-45ad-4f30-a272-bdfd2560914b",
   "metadata": {},
   "outputs": [],
   "source": [
    "import pandas as pd\n",
    "import numpy as np\n",
    "from sklearn.feature_selection import SelectKBest\n",
    "from sklearn.feature_selection import chi2\n",
    "import seaborn as sns \n",
    "import matplotlib.pyplot as plt"
   ]
  },
  {
   "cell_type": "code",
   "execution_count": 155,
   "id": "7e37dc24-c2c0-4559-8e50-7b28d4cac941",
   "metadata": {},
   "outputs": [
    {
     "data": {
      "text/html": [
       "<div>\n",
       "<style scoped>\n",
       "    .dataframe tbody tr th:only-of-type {\n",
       "        vertical-align: middle;\n",
       "    }\n",
       "\n",
       "    .dataframe tbody tr th {\n",
       "        vertical-align: top;\n",
       "    }\n",
       "\n",
       "    .dataframe thead th {\n",
       "        text-align: right;\n",
       "    }\n",
       "</style>\n",
       "<table border=\"1\" class=\"dataframe\">\n",
       "  <thead>\n",
       "    <tr style=\"text-align: right;\">\n",
       "      <th></th>\n",
       "      <th>INTERVIEW__ID</th>\n",
       "      <th>F1_S1_P0</th>\n",
       "      <th>F1_S1_CPPL</th>\n",
       "      <th>F1_S1_I01</th>\n",
       "      <th>F1_S1_I02</th>\n",
       "      <th>F1_S1_I03</th>\n",
       "      <th>F1_S1_I04</th>\n",
       "      <th>F1_S1_I05</th>\n",
       "      <th>F1_S1_I06</th>\n",
       "      <th>F1_S1_I07</th>\n",
       "      <th>...</th>\n",
       "      <th>F1_S6P02__99</th>\n",
       "      <th>F1_S6P02_19</th>\n",
       "      <th>F1_S6P0301</th>\n",
       "      <th>F1_S6P0302</th>\n",
       "      <th>F1_S6P04</th>\n",
       "      <th>F1_SF_F_LGBTI_DIA</th>\n",
       "      <th>F1_SF_F_LGBTI_MES</th>\n",
       "      <th>F1_SF_LGBTI_ANIO</th>\n",
       "      <th>F1_SF_RES_LEV</th>\n",
       "      <th>F1_SF_MOT_NR</th>\n",
       "    </tr>\n",
       "  </thead>\n",
       "  <tbody>\n",
       "    <tr>\n",
       "      <th>23020</th>\n",
       "      <td>8c8f93a159ba4aa6929b519575eda3bc</td>\n",
       "      <td>6</td>\n",
       "      <td>2325</td>\n",
       "      <td>9</td>\n",
       "      <td>901</td>\n",
       "      <td>90150</td>\n",
       "      <td>670</td>\n",
       "      <td>1</td>\n",
       "      <td>1</td>\n",
       "      <td>0</td>\n",
       "      <td>...</td>\n",
       "      <td>0</td>\n",
       "      <td></td>\n",
       "      <td>1</td>\n",
       "      <td>1</td>\n",
       "      <td>4</td>\n",
       "      <td>5</td>\n",
       "      <td>12</td>\n",
       "      <td>2022</td>\n",
       "      <td>1</td>\n",
       "      <td></td>\n",
       "    </tr>\n",
       "    <tr>\n",
       "      <th>16595</th>\n",
       "      <td>4a194d0991864afa9e5abcf027c95861</td>\n",
       "      <td>1</td>\n",
       "      <td>373</td>\n",
       "      <td>10</td>\n",
       "      <td>1001</td>\n",
       "      <td>100150</td>\n",
       "      <td>17</td>\n",
       "      <td>4</td>\n",
       "      <td>3</td>\n",
       "      <td>0</td>\n",
       "      <td>...</td>\n",
       "      <td>0</td>\n",
       "      <td></td>\n",
       "      <td>1</td>\n",
       "      <td>1</td>\n",
       "      <td>4</td>\n",
       "      <td>26</td>\n",
       "      <td>8</td>\n",
       "      <td>2022</td>\n",
       "      <td>1</td>\n",
       "      <td></td>\n",
       "    </tr>\n",
       "    <tr>\n",
       "      <th>16441</th>\n",
       "      <td>8227bd8ff19046bcbc9bf5454b74e3e7</td>\n",
       "      <td>15</td>\n",
       "      <td>1598</td>\n",
       "      <td>13</td>\n",
       "      <td>1301</td>\n",
       "      <td>130155</td>\n",
       "      <td>913</td>\n",
       "      <td>4</td>\n",
       "      <td>2</td>\n",
       "      <td>0</td>\n",
       "      <td>...</td>\n",
       "      <td></td>\n",
       "      <td></td>\n",
       "      <td>2</td>\n",
       "      <td>2</td>\n",
       "      <td></td>\n",
       "      <td>18</td>\n",
       "      <td>9</td>\n",
       "      <td>2022</td>\n",
       "      <td>1</td>\n",
       "      <td></td>\n",
       "    </tr>\n",
       "    <tr>\n",
       "      <th>18362</th>\n",
       "      <td>09086d460c584315aa965e78bf64eab4</td>\n",
       "      <td>7</td>\n",
       "      <td>4087</td>\n",
       "      <td>9</td>\n",
       "      <td>901</td>\n",
       "      <td>90150</td>\n",
       "      <td>670</td>\n",
       "      <td>1</td>\n",
       "      <td>1</td>\n",
       "      <td>0</td>\n",
       "      <td>...</td>\n",
       "      <td>0</td>\n",
       "      <td></td>\n",
       "      <td>1</td>\n",
       "      <td>2</td>\n",
       "      <td>2</td>\n",
       "      <td>7</td>\n",
       "      <td>12</td>\n",
       "      <td>2022</td>\n",
       "      <td>1</td>\n",
       "      <td></td>\n",
       "    </tr>\n",
       "    <tr>\n",
       "      <th>27301</th>\n",
       "      <td>614f428248294342bc8e2466283fec05</td>\n",
       "      <td>1</td>\n",
       "      <td>10</td>\n",
       "      <td>17</td>\n",
       "      <td>1701</td>\n",
       "      <td>170150</td>\n",
       "      <td>391</td>\n",
       "      <td>1</td>\n",
       "      <td>1</td>\n",
       "      <td>0</td>\n",
       "      <td>...</td>\n",
       "      <td>0</td>\n",
       "      <td></td>\n",
       "      <td>1</td>\n",
       "      <td>1</td>\n",
       "      <td>6</td>\n",
       "      <td>31</td>\n",
       "      <td>8</td>\n",
       "      <td>2022</td>\n",
       "      <td>1</td>\n",
       "      <td></td>\n",
       "    </tr>\n",
       "  </tbody>\n",
       "</table>\n",
       "<p>5 rows × 398 columns</p>\n",
       "</div>"
      ],
      "text/plain": [
       "                          INTERVIEW__ID  F1_S1_P0  F1_S1_CPPL  F1_S1_I01  \\\n",
       "23020  8c8f93a159ba4aa6929b519575eda3bc         6        2325          9   \n",
       "16595  4a194d0991864afa9e5abcf027c95861         1         373         10   \n",
       "16441  8227bd8ff19046bcbc9bf5454b74e3e7        15        1598         13   \n",
       "18362  09086d460c584315aa965e78bf64eab4         7        4087          9   \n",
       "27301  614f428248294342bc8e2466283fec05         1          10         17   \n",
       "\n",
       "       F1_S1_I02  F1_S1_I03  F1_S1_I04  F1_S1_I05  F1_S1_I06  F1_S1_I07  ...  \\\n",
       "23020        901      90150        670          1          1          0  ...   \n",
       "16595       1001     100150         17          4          3          0  ...   \n",
       "16441       1301     130155        913          4          2          0  ...   \n",
       "18362        901      90150        670          1          1          0  ...   \n",
       "27301       1701     170150        391          1          1          0  ...   \n",
       "\n",
       "      F1_S6P02__99  F1_S6P02_19  F1_S6P0301  F1_S6P0302  F1_S6P04  \\\n",
       "23020            0                        1           1         4   \n",
       "16595            0                        1           1         4   \n",
       "16441                                     2           2             \n",
       "18362            0                        1           2         2   \n",
       "27301            0                        1           1         6   \n",
       "\n",
       "      F1_SF_F_LGBTI_DIA  F1_SF_F_LGBTI_MES  F1_SF_LGBTI_ANIO  F1_SF_RES_LEV  \\\n",
       "23020                 5                 12              2022              1   \n",
       "16595                26                  8              2022              1   \n",
       "16441                18                  9              2022              1   \n",
       "18362                 7                 12              2022              1   \n",
       "27301                31                  8              2022              1   \n",
       "\n",
       "       F1_SF_MOT_NR  \n",
       "23020                \n",
       "16595                \n",
       "16441                \n",
       "18362                \n",
       "27301                \n",
       "\n",
       "[5 rows x 398 columns]"
      ]
     },
     "execution_count": 155,
     "metadata": {},
     "output_type": "execute_result"
    }
   ],
   "source": [
    "data = pd.read_csv('bdd_cp2022.csv', sep = ';', low_memory=False)\n",
    "data.sample(5)"
   ]
  },
  {
   "cell_type": "code",
   "execution_count": 156,
   "id": "3a3f549c-42b1-4cd6-b0be-d47c8c0dafb0",
   "metadata": {},
   "outputs": [
    {
     "data": {
      "text/plain": [
       "(31321, 398)"
      ]
     },
     "execution_count": 156,
     "metadata": {},
     "output_type": "execute_result"
    }
   ],
   "source": [
    "data.shape"
   ]
  },
  {
   "cell_type": "markdown",
   "id": "75903311-e2fe-4b52-af40-d7e210fb700f",
   "metadata": {},
   "source": [
    "### Data preparation\n",
    "Creamos un array con el nombre de las columnas seleccionadas para el proyecto"
   ]
  },
  {
   "cell_type": "code",
   "execution_count": 157,
   "id": "4f456c57-7050-4a85-afbf-08adb30aafb4",
   "metadata": {},
   "outputs": [],
   "source": [
    "features = ['F1_S2_P02', 'F1_S2_P0701','F1_S2_P0702', 'F1_S2_P0703', 'F1_S2_P0704', \n",
    "            'F1_S2_P0705', 'F1_S2_P0706', 'F1_S2_P14', 'F1_S2_P15', 'F1_S2_P19', \n",
    "            'F1_S2_P25', 'F1_S4P16__2', 'F1_S4P16__3', 'F1_S4P16__4', 'F1_S4P16__5', \n",
    "            'F1_S4P16__6','F1_S4P16__7', 'F1_S4P16__8', 'F1_S4P16__9', 'F1_S4P16__10', \n",
    "            'F1_S4P16__11','F1_S4P16__12','F1_S4P16__13', 'F1_S4P16__14', 'F1_S4P16__15', \n",
    "            'F1_S4P16__16','F1_S4P16__17', 'F1_S4P16__18', 'F1_S4P16__19','F1_S4P16__99', \n",
    "            'F1_S5P1901', 'F1_S5P1902', 'F1_S5P1903', 'F1_S5P1904','F1_S5P1905', \n",
    "            'F1_S5P1906', 'F1_S5P1907', 'F1_S5P21', 'F1_S5P33', 'F1_S5P3501',\n",
    "           'F1_S5P3502', 'F1_S5P3503', 'F1_S5P3504', 'F1_S5P3505', 'F1_S5P3506',\n",
    "            'F1_S5P3601','F1_S5P3602', 'F1_S5P3603', 'F1_S5P42', 'F1_S5P53', 'F1_S5P41__7']"
   ]
  },
  {
   "cell_type": "code",
   "execution_count": 158,
   "id": "ce5a34cf-9945-47fc-87a0-b09d2c3da6cb",
   "metadata": {},
   "outputs": [],
   "source": [
    "data_select = pd.DataFrame(columns = features)"
   ]
  },
  {
   "cell_type": "code",
   "execution_count": 159,
   "id": "32240825-e972-4ed9-9bd9-9a3a9d166b4f",
   "metadata": {},
   "outputs": [],
   "source": [
    "for i in features:\n",
    "    data_select[i] = data[i] "
   ]
  },
  {
   "cell_type": "code",
   "execution_count": 160,
   "id": "300e6132-5503-4ca1-9aa2-3ade6b6f884f",
   "metadata": {},
   "outputs": [
    {
     "data": {
      "text/plain": [
       "(31321, 51)"
      ]
     },
     "execution_count": 160,
     "metadata": {},
     "output_type": "execute_result"
    }
   ],
   "source": [
    "data_select.shape"
   ]
  },
  {
   "cell_type": "code",
   "execution_count": 161,
   "id": "1288c727-f3a5-4c3a-9762-2bf37cce49cf",
   "metadata": {},
   "outputs": [
    {
     "data": {
      "text/html": [
       "<div>\n",
       "<style scoped>\n",
       "    .dataframe tbody tr th:only-of-type {\n",
       "        vertical-align: middle;\n",
       "    }\n",
       "\n",
       "    .dataframe tbody tr th {\n",
       "        vertical-align: top;\n",
       "    }\n",
       "\n",
       "    .dataframe thead th {\n",
       "        text-align: right;\n",
       "    }\n",
       "</style>\n",
       "<table border=\"1\" class=\"dataframe\">\n",
       "  <thead>\n",
       "    <tr style=\"text-align: right;\">\n",
       "      <th></th>\n",
       "      <th>F1_S2_P02</th>\n",
       "      <th>F1_S2_P0701</th>\n",
       "      <th>F1_S2_P0702</th>\n",
       "      <th>F1_S2_P0703</th>\n",
       "      <th>F1_S2_P0704</th>\n",
       "      <th>F1_S2_P0705</th>\n",
       "      <th>F1_S2_P0706</th>\n",
       "      <th>F1_S2_P14</th>\n",
       "      <th>F1_S2_P15</th>\n",
       "      <th>F1_S2_P19</th>\n",
       "      <th>...</th>\n",
       "      <th>F1_S5P3503</th>\n",
       "      <th>F1_S5P3504</th>\n",
       "      <th>F1_S5P3505</th>\n",
       "      <th>F1_S5P3506</th>\n",
       "      <th>F1_S5P3601</th>\n",
       "      <th>F1_S5P3602</th>\n",
       "      <th>F1_S5P3603</th>\n",
       "      <th>F1_S5P42</th>\n",
       "      <th>F1_S5P53</th>\n",
       "      <th>F1_S5P41__7</th>\n",
       "    </tr>\n",
       "  </thead>\n",
       "  <tbody>\n",
       "    <tr>\n",
       "      <th>13281</th>\n",
       "      <td>1</td>\n",
       "      <td>1</td>\n",
       "      <td>1</td>\n",
       "      <td>1</td>\n",
       "      <td>1</td>\n",
       "      <td>1</td>\n",
       "      <td>1</td>\n",
       "      <td>2</td>\n",
       "      <td>1</td>\n",
       "      <td>1</td>\n",
       "      <td>...</td>\n",
       "      <td>2</td>\n",
       "      <td>2</td>\n",
       "      <td>2</td>\n",
       "      <td>2</td>\n",
       "      <td>1</td>\n",
       "      <td>1</td>\n",
       "      <td>1</td>\n",
       "      <td>2</td>\n",
       "      <td>1</td>\n",
       "      <td>0</td>\n",
       "    </tr>\n",
       "    <tr>\n",
       "      <th>23033</th>\n",
       "      <td>2</td>\n",
       "      <td>1</td>\n",
       "      <td>1</td>\n",
       "      <td>1</td>\n",
       "      <td>1</td>\n",
       "      <td>1</td>\n",
       "      <td>1</td>\n",
       "      <td>2</td>\n",
       "      <td>2</td>\n",
       "      <td></td>\n",
       "      <td>...</td>\n",
       "      <td>2</td>\n",
       "      <td>1</td>\n",
       "      <td>2</td>\n",
       "      <td>2</td>\n",
       "      <td>2</td>\n",
       "      <td>1</td>\n",
       "      <td>2</td>\n",
       "      <td>1</td>\n",
       "      <td>1</td>\n",
       "      <td>0</td>\n",
       "    </tr>\n",
       "    <tr>\n",
       "      <th>18427</th>\n",
       "      <td>1</td>\n",
       "      <td>1</td>\n",
       "      <td>1</td>\n",
       "      <td>1</td>\n",
       "      <td>1</td>\n",
       "      <td>1</td>\n",
       "      <td>1</td>\n",
       "      <td>2</td>\n",
       "      <td>2</td>\n",
       "      <td></td>\n",
       "      <td>...</td>\n",
       "      <td>1</td>\n",
       "      <td>2</td>\n",
       "      <td>2</td>\n",
       "      <td>2</td>\n",
       "      <td>1</td>\n",
       "      <td>1</td>\n",
       "      <td>1</td>\n",
       "      <td>2</td>\n",
       "      <td>1</td>\n",
       "      <td>0</td>\n",
       "    </tr>\n",
       "    <tr>\n",
       "      <th>14231</th>\n",
       "      <td>1</td>\n",
       "      <td>1</td>\n",
       "      <td>1</td>\n",
       "      <td>1</td>\n",
       "      <td>1</td>\n",
       "      <td>1</td>\n",
       "      <td>1</td>\n",
       "      <td>2</td>\n",
       "      <td>1</td>\n",
       "      <td></td>\n",
       "      <td>...</td>\n",
       "      <td>2</td>\n",
       "      <td>2</td>\n",
       "      <td>2</td>\n",
       "      <td>2</td>\n",
       "      <td>1</td>\n",
       "      <td>2</td>\n",
       "      <td>1</td>\n",
       "      <td>1</td>\n",
       "      <td>1</td>\n",
       "      <td>0</td>\n",
       "    </tr>\n",
       "    <tr>\n",
       "      <th>1534</th>\n",
       "      <td>2</td>\n",
       "      <td>1</td>\n",
       "      <td>1</td>\n",
       "      <td>1</td>\n",
       "      <td>1</td>\n",
       "      <td>1</td>\n",
       "      <td>1</td>\n",
       "      <td>2</td>\n",
       "      <td>2</td>\n",
       "      <td></td>\n",
       "      <td>...</td>\n",
       "      <td>2</td>\n",
       "      <td>2</td>\n",
       "      <td>2</td>\n",
       "      <td>2</td>\n",
       "      <td>2</td>\n",
       "      <td>2</td>\n",
       "      <td>2</td>\n",
       "      <td>1</td>\n",
       "      <td>2</td>\n",
       "      <td>0</td>\n",
       "    </tr>\n",
       "  </tbody>\n",
       "</table>\n",
       "<p>5 rows × 51 columns</p>\n",
       "</div>"
      ],
      "text/plain": [
       "       F1_S2_P02  F1_S2_P0701  F1_S2_P0702  F1_S2_P0703  F1_S2_P0704  \\\n",
       "13281          1            1            1            1            1   \n",
       "23033          2            1            1            1            1   \n",
       "18427          1            1            1            1            1   \n",
       "14231          1            1            1            1            1   \n",
       "1534           2            1            1            1            1   \n",
       "\n",
       "       F1_S2_P0705  F1_S2_P0706 F1_S2_P14 F1_S2_P15 F1_S2_P19  ... F1_S5P3503  \\\n",
       "13281            1            1         2         1         1  ...          2   \n",
       "23033            1            1         2         2            ...          2   \n",
       "18427            1            1         2         2            ...          1   \n",
       "14231            1            1         2         1            ...          2   \n",
       "1534             1            1         2         2            ...          2   \n",
       "\n",
       "      F1_S5P3504 F1_S5P3505 F1_S5P3506 F1_S5P3601 F1_S5P3602 F1_S5P3603  \\\n",
       "13281          2          2          2          1          1          1   \n",
       "23033          1          2          2          2          1          2   \n",
       "18427          2          2          2          1          1          1   \n",
       "14231          2          2          2          1          2          1   \n",
       "1534           2          2          2          2          2          2   \n",
       "\n",
       "      F1_S5P42 F1_S5P53 F1_S5P41__7  \n",
       "13281        2        1           0  \n",
       "23033        1        1           0  \n",
       "18427        2        1           0  \n",
       "14231        1        1           0  \n",
       "1534         1        2           0  \n",
       "\n",
       "[5 rows x 51 columns]"
      ]
     },
     "execution_count": 161,
     "metadata": {},
     "output_type": "execute_result"
    }
   ],
   "source": [
    "data_select.sample(5)"
   ]
  },
  {
   "cell_type": "code",
   "execution_count": 162,
   "id": "9b135098-98fe-443b-b70b-d4f6a0bdb0a1",
   "metadata": {},
   "outputs": [
    {
     "data": {
      "text/plain": [
       "F1_S2_P02       category\n",
       "F1_S2_P0701     category\n",
       "F1_S2_P0702     category\n",
       "F1_S2_P0703     category\n",
       "F1_S2_P0704     category\n",
       "F1_S2_P0705     category\n",
       "F1_S2_P0706     category\n",
       "F1_S2_P14       category\n",
       "F1_S2_P15       category\n",
       "F1_S2_P19       category\n",
       "F1_S2_P25       category\n",
       "F1_S4P16__2     category\n",
       "F1_S4P16__3     category\n",
       "F1_S4P16__4     category\n",
       "F1_S4P16__5     category\n",
       "F1_S4P16__6     category\n",
       "F1_S4P16__7     category\n",
       "F1_S4P16__8     category\n",
       "F1_S4P16__9     category\n",
       "F1_S4P16__10    category\n",
       "F1_S4P16__11    category\n",
       "F1_S4P16__12    category\n",
       "F1_S4P16__13    category\n",
       "F1_S4P16__14    category\n",
       "F1_S4P16__15    category\n",
       "F1_S4P16__16    category\n",
       "F1_S4P16__17    category\n",
       "F1_S4P16__18    category\n",
       "F1_S4P16__19    category\n",
       "F1_S4P16__99    category\n",
       "F1_S5P1901      category\n",
       "F1_S5P1902      category\n",
       "F1_S5P1903      category\n",
       "F1_S5P1904      category\n",
       "F1_S5P1905      category\n",
       "F1_S5P1906      category\n",
       "F1_S5P1907      category\n",
       "F1_S5P21        category\n",
       "F1_S5P33        category\n",
       "F1_S5P3501      category\n",
       "F1_S5P3502      category\n",
       "F1_S5P3503      category\n",
       "F1_S5P3504      category\n",
       "F1_S5P3505      category\n",
       "F1_S5P3506      category\n",
       "F1_S5P3601      category\n",
       "F1_S5P3602      category\n",
       "F1_S5P3603      category\n",
       "F1_S5P42        category\n",
       "F1_S5P53        category\n",
       "F1_S5P41__7     category\n",
       "dtype: object"
      ]
     },
     "execution_count": 162,
     "metadata": {},
     "output_type": "execute_result"
    }
   ],
   "source": [
    "for i in data_select.columns:\n",
    "    data_select[i] = data_select[i].astype('category')\n",
    "\n",
    "data_select.dtypes"
   ]
  },
  {
   "cell_type": "code",
   "execution_count": 163,
   "id": "1af84527-7eba-4c63-b297-35ec4c32010a",
   "metadata": {},
   "outputs": [
    {
     "name": "stdout",
     "output_type": "stream",
     "text": [
      "F1_S2_P02 : Int64Index([1, 2], dtype='int64')\n",
      "F1_S2_P0701 : Int64Index([1, 2, 3, 4], dtype='int64')\n",
      "F1_S2_P0702 : Int64Index([1, 2, 3, 4], dtype='int64')\n",
      "F1_S2_P0703 : Int64Index([1, 2, 3, 4], dtype='int64')\n",
      "F1_S2_P0704 : Int64Index([1, 2, 3, 4], dtype='int64')\n",
      "F1_S2_P0705 : Int64Index([1, 2, 3, 4], dtype='int64')\n",
      "F1_S2_P0706 : Int64Index([1, 2, 3, 4], dtype='int64')\n",
      "F1_S2_P14 : Index([' ', '1', '2'], dtype='object')\n",
      "F1_S2_P15 : Index([' ', '1', '2'], dtype='object')\n",
      "F1_S2_P19 : Index([' ', '1', '2', '9'], dtype='object')\n",
      "F1_S2_P25 : Index([' ', '1', '2'], dtype='object')\n",
      "F1_S4P16__2 : Index([' ', '0', '1'], dtype='object')\n",
      "F1_S4P16__3 : Index([' ', '0', '1'], dtype='object')\n",
      "F1_S4P16__4 : Index([' ', '0', '1'], dtype='object')\n",
      "F1_S4P16__5 : Index([' ', '0', '1'], dtype='object')\n",
      "F1_S4P16__6 : Index([' ', '0', '1'], dtype='object')\n",
      "F1_S4P16__7 : Index([' ', '0', '1'], dtype='object')\n",
      "F1_S4P16__8 : Index([' ', '0', '1'], dtype='object')\n",
      "F1_S4P16__9 : Index([' ', '0', '1'], dtype='object')\n",
      "F1_S4P16__10 : Index([' ', '0', '1'], dtype='object')\n",
      "F1_S4P16__11 : Index([' ', '0', '1'], dtype='object')\n",
      "F1_S4P16__12 : Index([' ', '0', '1'], dtype='object')\n",
      "F1_S4P16__13 : Index([' ', '0', '1'], dtype='object')\n",
      "F1_S4P16__14 : Index([' ', '0', '1'], dtype='object')\n",
      "F1_S4P16__15 : Index([' ', '0', '1'], dtype='object')\n",
      "F1_S4P16__16 : Index([' ', '0', '1'], dtype='object')\n",
      "F1_S4P16__17 : Index([' ', '0', '1'], dtype='object')\n",
      "F1_S4P16__18 : Index([' ', '0', '1'], dtype='object')\n",
      "F1_S4P16__19 : Index([' ', '0', '1'], dtype='object')\n",
      "F1_S4P16__99 : Index([' ', '0', '1'], dtype='object')\n",
      "F1_S5P1901 : Index([' ', '1', '2', '8'], dtype='object')\n",
      "F1_S5P1902 : Index([' ', '1', '2', '8'], dtype='object')\n",
      "F1_S5P1903 : Index([' ', '1', '2', '8'], dtype='object')\n",
      "F1_S5P1904 : Index([' ', '1', '2', '8'], dtype='object')\n",
      "F1_S5P1905 : Index([' ', '1', '2', '8'], dtype='object')\n",
      "F1_S5P1906 : Index([' ', '1', '2', '8'], dtype='object')\n",
      "F1_S5P1907 : Index([' ', '1', '2', '8'], dtype='object')\n",
      "F1_S5P21 : Index([' ', '1', '2', '8', '9'], dtype='object')\n",
      "F1_S5P33 : Index([' ', '1', '2', '8', '9'], dtype='object')\n",
      "F1_S5P3501 : Index([' ', '1', '2'], dtype='object')\n",
      "F1_S5P3502 : Index([' ', '1', '2'], dtype='object')\n",
      "F1_S5P3503 : Index([' ', '1', '2'], dtype='object')\n",
      "F1_S5P3504 : Index([' ', '1', '2'], dtype='object')\n",
      "F1_S5P3505 : Index([' ', '1', '2'], dtype='object')\n",
      "F1_S5P3506 : Index([' ', '1', '2'], dtype='object')\n",
      "F1_S5P3601 : Index([' ', '1', '2'], dtype='object')\n",
      "F1_S5P3602 : Index([' ', '1', '2'], dtype='object')\n",
      "F1_S5P3603 : Index([' ', '1', '2'], dtype='object')\n",
      "F1_S5P42 : Index([' ', '1', '2', '8', '9'], dtype='object')\n",
      "F1_S5P53 : Index([' ', '1', '2', '8', '9'], dtype='object')\n",
      "F1_S5P41__7 : Index([' ', '0', '1'], dtype='object')\n"
     ]
    }
   ],
   "source": [
    "for i in data_select.columns:\n",
    "    print(i, ':', data_select[i].cat.categories)\n"
   ]
  },
  {
   "cell_type": "code",
   "execution_count": 164,
   "id": "82e748f3-7ea4-4228-b4b6-31d0f9ff0abb",
   "metadata": {},
   "outputs": [],
   "source": [
    "data_select = data_select.replace(' ', np.nan)"
   ]
  },
  {
   "cell_type": "code",
   "execution_count": 165,
   "id": "f4afddfa-5ece-4664-be5a-dfb2b511ebdb",
   "metadata": {},
   "outputs": [],
   "source": [
    "data_select = data_select.dropna()"
   ]
  },
  {
   "cell_type": "code",
   "execution_count": 166,
   "id": "9b6969d6-ea9a-4836-bbf7-703db328c6b2",
   "metadata": {},
   "outputs": [],
   "source": [
    "#Unificando las variables 'No sabe' y 'No responde' en una sola\n",
    "data_select = data_select.replace('8', '3')\n",
    "data_select = data_select.replace('9', '3')"
   ]
  },
  {
   "cell_type": "code",
   "execution_count": 167,
   "id": "6f191156-672f-466d-a550-59d3266dcb50",
   "metadata": {},
   "outputs": [
    {
     "name": "stdout",
     "output_type": "stream",
     "text": [
      "F1_S2_P02 : Int64Index([1, 2], dtype='int64')\n",
      "F1_S2_P0701 : Int64Index([1, 2, 3, 4], dtype='int64')\n",
      "F1_S2_P0702 : Int64Index([1, 2, 3, 4], dtype='int64')\n",
      "F1_S2_P0703 : Int64Index([1, 2, 3, 4], dtype='int64')\n",
      "F1_S2_P0704 : Int64Index([1, 2, 3, 4], dtype='int64')\n",
      "F1_S2_P0705 : Int64Index([1, 2, 3, 4], dtype='int64')\n",
      "F1_S2_P0706 : Int64Index([1, 2, 3, 4], dtype='int64')\n",
      "F1_S2_P14 : Index(['1', '2'], dtype='object')\n",
      "F1_S2_P15 : Index(['1', '2'], dtype='object')\n",
      "F1_S2_P19 : Index(['1', '2', '3'], dtype='object')\n",
      "F1_S2_P25 : Index(['1', '2'], dtype='object')\n",
      "F1_S4P16__2 : Index(['0', '1'], dtype='object')\n",
      "F1_S4P16__3 : Index(['0', '1'], dtype='object')\n",
      "F1_S4P16__4 : Index(['0', '1'], dtype='object')\n",
      "F1_S4P16__5 : Index(['0', '1'], dtype='object')\n",
      "F1_S4P16__6 : Index(['0', '1'], dtype='object')\n",
      "F1_S4P16__7 : Index(['0', '1'], dtype='object')\n",
      "F1_S4P16__8 : Index(['0', '1'], dtype='object')\n",
      "F1_S4P16__9 : Index(['0', '1'], dtype='object')\n",
      "F1_S4P16__10 : Index(['0', '1'], dtype='object')\n",
      "F1_S4P16__11 : Index(['0', '1'], dtype='object')\n",
      "F1_S4P16__12 : Index(['0', '1'], dtype='object')\n",
      "F1_S4P16__13 : Index(['0', '1'], dtype='object')\n",
      "F1_S4P16__14 : Index(['0', '1'], dtype='object')\n",
      "F1_S4P16__15 : Index(['0', '1'], dtype='object')\n",
      "F1_S4P16__16 : Index(['0', '1'], dtype='object')\n",
      "F1_S4P16__17 : Index(['0', '1'], dtype='object')\n",
      "F1_S4P16__18 : Index(['0', '1'], dtype='object')\n",
      "F1_S4P16__19 : Index(['0', '1'], dtype='object')\n",
      "F1_S4P16__99 : Index(['0', '1'], dtype='object')\n",
      "F1_S5P1901 : Index(['1', '2', '3'], dtype='object')\n",
      "F1_S5P1902 : Index(['1', '2', '3'], dtype='object')\n",
      "F1_S5P1903 : Index(['1', '2', '3'], dtype='object')\n",
      "F1_S5P1904 : Index(['1', '2', '3'], dtype='object')\n",
      "F1_S5P1905 : Index(['1', '2', '3'], dtype='object')\n",
      "F1_S5P1906 : Index(['1', '2', '3'], dtype='object')\n",
      "F1_S5P1907 : Index(['1', '2', '3'], dtype='object')\n",
      "F1_S5P21 : Index(['1', '2', '3'], dtype='object')\n",
      "F1_S5P33 : Index(['1', '2', '3'], dtype='object')\n",
      "F1_S5P3501 : Index(['1', '2'], dtype='object')\n",
      "F1_S5P3502 : Index(['1', '2'], dtype='object')\n",
      "F1_S5P3503 : Index(['1', '2'], dtype='object')\n",
      "F1_S5P3504 : Index(['1', '2'], dtype='object')\n",
      "F1_S5P3505 : Index(['1', '2'], dtype='object')\n",
      "F1_S5P3506 : Index(['1', '2'], dtype='object')\n",
      "F1_S5P3601 : Index(['1', '2'], dtype='object')\n",
      "F1_S5P3602 : Index(['1', '2'], dtype='object')\n",
      "F1_S5P3603 : Index(['1', '2'], dtype='object')\n",
      "F1_S5P42 : Index(['1', '2', '3'], dtype='object')\n",
      "F1_S5P53 : Index(['1', '2', '3'], dtype='object')\n",
      "F1_S5P41__7 : Index(['0', '1'], dtype='object')\n"
     ]
    }
   ],
   "source": [
    "for i in data_select.columns:\n",
    "    print(i, ':', data_select[i].cat.categories)"
   ]
  },
  {
   "cell_type": "code",
   "execution_count": 168,
   "id": "a16421f8-3c7c-4c30-8def-ea939b5bef3f",
   "metadata": {},
   "outputs": [],
   "source": [
    "#Group 1\n",
    "\n",
    "\n",
    "columns = ['F1_S2_P0701','F1_S2_P0702', 'F1_S2_P0703', \n",
    "           'F1_S2_P0704', 'F1_S2_P0705', 'F1_S2_P0706']\n",
    "for i in columns:\n",
    "    data_select[i] = data_select[i].cat.rename_categories(['0', '1', '2', '3'])\n",
    "    \n",
    "#Group 2  \n",
    "columns = [  'F1_S2_P19','F1_S5P1901', 'F1_S5P1902', 'F1_S5P1903', 'F1_S5P1904','F1_S5P1905', \n",
    "            'F1_S5P1906', 'F1_S5P1907', 'F1_S5P21', 'F1_S5P33',  'F1_S5P42', 'F1_S5P53']\n",
    "for i in columns:\n",
    "    data_select[i] = data_select[i].cat.rename_categories(['0', '1', '2']) \n",
    "    \n",
    "#Group 3\n",
    "columns = ['F1_S2_P02','F1_S2_P14', \n",
    "           'F1_S2_P15', 'F1_S2_P25','F1_S5P3501',\n",
    "           'F1_S5P3502', 'F1_S5P3503', 'F1_S5P3504', 'F1_S5P3505', 'F1_S5P3506',\n",
    "            'F1_S5P3601','F1_S5P3602', 'F1_S5P3603']\n",
    "for i in columns:\n",
    "    data_select[i] = data_select[i].cat.rename_categories(['0', '1']) \n"
   ]
  },
  {
   "cell_type": "code",
   "execution_count": 169,
   "id": "5722d303-4086-4003-ac7f-c6f59c0be40c",
   "metadata": {},
   "outputs": [
    {
     "name": "stdout",
     "output_type": "stream",
     "text": [
      "F1_S2_P02 : Index(['0', '1'], dtype='object')\n",
      "F1_S2_P0701 : Index(['0', '1', '2', '3'], dtype='object')\n",
      "F1_S2_P0702 : Index(['0', '1', '2', '3'], dtype='object')\n",
      "F1_S2_P0703 : Index(['0', '1', '2', '3'], dtype='object')\n",
      "F1_S2_P0704 : Index(['0', '1', '2', '3'], dtype='object')\n",
      "F1_S2_P0705 : Index(['0', '1', '2', '3'], dtype='object')\n",
      "F1_S2_P0706 : Index(['0', '1', '2', '3'], dtype='object')\n",
      "F1_S2_P14 : Index(['0', '1'], dtype='object')\n",
      "F1_S2_P15 : Index(['0', '1'], dtype='object')\n",
      "F1_S2_P19 : Index(['0', '1', '2'], dtype='object')\n",
      "F1_S2_P25 : Index(['0', '1'], dtype='object')\n",
      "F1_S4P16__2 : Index(['0', '1'], dtype='object')\n",
      "F1_S4P16__3 : Index(['0', '1'], dtype='object')\n",
      "F1_S4P16__4 : Index(['0', '1'], dtype='object')\n",
      "F1_S4P16__5 : Index(['0', '1'], dtype='object')\n",
      "F1_S4P16__6 : Index(['0', '1'], dtype='object')\n",
      "F1_S4P16__7 : Index(['0', '1'], dtype='object')\n",
      "F1_S4P16__8 : Index(['0', '1'], dtype='object')\n",
      "F1_S4P16__9 : Index(['0', '1'], dtype='object')\n",
      "F1_S4P16__10 : Index(['0', '1'], dtype='object')\n",
      "F1_S4P16__11 : Index(['0', '1'], dtype='object')\n",
      "F1_S4P16__12 : Index(['0', '1'], dtype='object')\n",
      "F1_S4P16__13 : Index(['0', '1'], dtype='object')\n",
      "F1_S4P16__14 : Index(['0', '1'], dtype='object')\n",
      "F1_S4P16__15 : Index(['0', '1'], dtype='object')\n",
      "F1_S4P16__16 : Index(['0', '1'], dtype='object')\n",
      "F1_S4P16__17 : Index(['0', '1'], dtype='object')\n",
      "F1_S4P16__18 : Index(['0', '1'], dtype='object')\n",
      "F1_S4P16__19 : Index(['0', '1'], dtype='object')\n",
      "F1_S4P16__99 : Index(['0', '1'], dtype='object')\n",
      "F1_S5P1901 : Index(['0', '1', '2'], dtype='object')\n",
      "F1_S5P1902 : Index(['0', '1', '2'], dtype='object')\n",
      "F1_S5P1903 : Index(['0', '1', '2'], dtype='object')\n",
      "F1_S5P1904 : Index(['0', '1', '2'], dtype='object')\n",
      "F1_S5P1905 : Index(['0', '1', '2'], dtype='object')\n",
      "F1_S5P1906 : Index(['0', '1', '2'], dtype='object')\n",
      "F1_S5P1907 : Index(['0', '1', '2'], dtype='object')\n",
      "F1_S5P21 : Index(['0', '1', '2'], dtype='object')\n",
      "F1_S5P33 : Index(['0', '1', '2'], dtype='object')\n",
      "F1_S5P3501 : Index(['0', '1'], dtype='object')\n",
      "F1_S5P3502 : Index(['0', '1'], dtype='object')\n",
      "F1_S5P3503 : Index(['0', '1'], dtype='object')\n",
      "F1_S5P3504 : Index(['0', '1'], dtype='object')\n",
      "F1_S5P3505 : Index(['0', '1'], dtype='object')\n",
      "F1_S5P3506 : Index(['0', '1'], dtype='object')\n",
      "F1_S5P3601 : Index(['0', '1'], dtype='object')\n",
      "F1_S5P3602 : Index(['0', '1'], dtype='object')\n",
      "F1_S5P3603 : Index(['0', '1'], dtype='object')\n",
      "F1_S5P42 : Index(['0', '1', '2'], dtype='object')\n",
      "F1_S5P53 : Index(['0', '1', '2'], dtype='object')\n",
      "F1_S5P41__7 : Index(['0', '1'], dtype='object')\n"
     ]
    }
   ],
   "source": [
    "for i in data_select.columns:\n",
    "    print(i, ':', data_select[i].cat.categories)"
   ]
  },
  {
   "cell_type": "markdown",
   "id": "f8985a2f-a45f-4be9-9c0b-1728481984af",
   "metadata": {},
   "source": [
    "Ahora que todas nuestras variables estan estandarizadas como variables categóricas respectivamente, debemos preparar la variable target. Dado que en los datos esta corresponde a `No le gustaría participar en ningún eje de tratamiento` por tanto el valor de `1` nos dice que no va a participar de ningún eje y viceversa. \n",
    "\n",
    "Es por eso que, para facilitar la lectura y comprensión de la predicción lo que haremos es invertir estos valores para que la predicción nos responda claramente si `Participaría en algún eje de tratamiento`"
   ]
  },
  {
   "cell_type": "code",
   "execution_count": 170,
   "id": "a7710750-99c9-4dc9-862d-bfc2a32118ce",
   "metadata": {},
   "outputs": [
    {
     "data": {
      "text/plain": [
       "0    8769\n",
       "1     439\n",
       "Name: F1_S5P41__7, dtype: int64"
      ]
     },
     "execution_count": 170,
     "metadata": {},
     "output_type": "execute_result"
    }
   ],
   "source": [
    "data_select['F1_S5P41__7'].value_counts()"
   ]
  },
  {
   "cell_type": "code",
   "execution_count": 171,
   "id": "ef5e3475-29f0-464e-8a42-3af0cc628cdf",
   "metadata": {},
   "outputs": [],
   "source": [
    "data_select['F1_S5P41__7'] = data_select['F1_S5P41__7'].replace('0', 'Si')\n",
    "data_select['F1_S5P41__7'] = data_select['F1_S5P41__7'].replace('1', 'No')"
   ]
  },
  {
   "cell_type": "code",
   "execution_count": 172,
   "id": "5356c8e1-d679-418a-8c9f-8053ab5b3a2e",
   "metadata": {},
   "outputs": [],
   "source": [
    "data_select['F1_S5P41__7'] = data_select['F1_S5P41__7'].replace('Si','1')\n",
    "data_select['F1_S5P41__7'] = data_select['F1_S5P41__7'].replace( 'No', '0')"
   ]
  },
  {
   "cell_type": "code",
   "execution_count": 173,
   "id": "f97a11ea-cb8b-43cc-bd8b-e6a846436100",
   "metadata": {},
   "outputs": [
    {
     "data": {
      "text/plain": [
       "1    8769\n",
       "0     439\n",
       "Name: F1_S5P41__7, dtype: int64"
      ]
     },
     "execution_count": 173,
     "metadata": {},
     "output_type": "execute_result"
    }
   ],
   "source": [
    "data_select['F1_S5P41__7'].value_counts()"
   ]
  },
  {
   "cell_type": "markdown",
   "id": "cecaf77b-e0db-467f-991f-fbad117efe5b",
   "metadata": {},
   "source": [
    "Ahora tenemos claro que `0 = No` y `1 = Si`.\n"
   ]
  },
  {
   "cell_type": "markdown",
   "id": "40496f97-f7d0-43e3-b236-a41e20491b4e",
   "metadata": {},
   "source": [
    "### Feature Selection\n",
    "\n",
    "Ahora que los datos están listos, separamos la variable target de las features para analizar que la importancia de los datos con los que vamos a trabajar "
   ]
  },
  {
   "cell_type": "code",
   "execution_count": 174,
   "id": "d7d80420-381b-402d-bc21-245910c8d274",
   "metadata": {},
   "outputs": [],
   "source": [
    "y = data_select['F1_S5P41__7']\n",
    "x = data_select.drop(columns='F1_S5P41__7')"
   ]
  },
  {
   "cell_type": "code",
   "execution_count": 175,
   "id": "f35226ee-38e9-4bad-b2e7-ab538973b0b3",
   "metadata": {},
   "outputs": [],
   "source": [
    "bestfeatures = SelectKBest(score_func=chi2, k=25)\n",
    "fit = bestfeatures.fit(x,y)\n",
    "df_scores = pd.DataFrame(fit.scores_)  \n",
    "df_columns = pd.DataFrame(x.columns)   #nombres de las features\n",
    "scores = pd.concat([df_columns,df_scores],axis=1)\n",
    "scores.columns = ['caracteristicas','score']"
   ]
  },
  {
   "cell_type": "code",
   "execution_count": 176,
   "id": "1b06c36b-0c47-483d-864e-7bbe51b6cd60",
   "metadata": {},
   "outputs": [
    {
     "data": {
      "text/html": [
       "<div>\n",
       "<style scoped>\n",
       "    .dataframe tbody tr th:only-of-type {\n",
       "        vertical-align: middle;\n",
       "    }\n",
       "\n",
       "    .dataframe tbody tr th {\n",
       "        vertical-align: top;\n",
       "    }\n",
       "\n",
       "    .dataframe thead th {\n",
       "        text-align: right;\n",
       "    }\n",
       "</style>\n",
       "<table border=\"1\" class=\"dataframe\">\n",
       "  <thead>\n",
       "    <tr style=\"text-align: right;\">\n",
       "      <th></th>\n",
       "      <th>caracteristicas</th>\n",
       "      <th>score</th>\n",
       "    </tr>\n",
       "  </thead>\n",
       "  <tbody>\n",
       "    <tr>\n",
       "      <th>7</th>\n",
       "      <td>F1_S2_P14</td>\n",
       "      <td>0.004293</td>\n",
       "    </tr>\n",
       "    <tr>\n",
       "      <th>23</th>\n",
       "      <td>F1_S4P16__14</td>\n",
       "      <td>0.005197</td>\n",
       "    </tr>\n",
       "    <tr>\n",
       "      <th>0</th>\n",
       "      <td>F1_S2_P02</td>\n",
       "      <td>0.012202</td>\n",
       "    </tr>\n",
       "    <tr>\n",
       "      <th>13</th>\n",
       "      <td>F1_S4P16__4</td>\n",
       "      <td>0.048196</td>\n",
       "    </tr>\n",
       "    <tr>\n",
       "      <th>34</th>\n",
       "      <td>F1_S5P1905</td>\n",
       "      <td>0.051424</td>\n",
       "    </tr>\n",
       "    <tr>\n",
       "      <th>36</th>\n",
       "      <td>F1_S5P1907</td>\n",
       "      <td>0.068020</td>\n",
       "    </tr>\n",
       "    <tr>\n",
       "      <th>31</th>\n",
       "      <td>F1_S5P1902</td>\n",
       "      <td>0.091709</td>\n",
       "    </tr>\n",
       "    <tr>\n",
       "      <th>32</th>\n",
       "      <td>F1_S5P1903</td>\n",
       "      <td>0.095774</td>\n",
       "    </tr>\n",
       "    <tr>\n",
       "      <th>30</th>\n",
       "      <td>F1_S5P1901</td>\n",
       "      <td>0.095774</td>\n",
       "    </tr>\n",
       "    <tr>\n",
       "      <th>24</th>\n",
       "      <td>F1_S4P16__15</td>\n",
       "      <td>0.101564</td>\n",
       "    </tr>\n",
       "    <tr>\n",
       "      <th>33</th>\n",
       "      <td>F1_S5P1904</td>\n",
       "      <td>0.147716</td>\n",
       "    </tr>\n",
       "    <tr>\n",
       "      <th>20</th>\n",
       "      <td>F1_S4P16__11</td>\n",
       "      <td>0.155552</td>\n",
       "    </tr>\n",
       "    <tr>\n",
       "      <th>17</th>\n",
       "      <td>F1_S4P16__8</td>\n",
       "      <td>0.219369</td>\n",
       "    </tr>\n",
       "    <tr>\n",
       "      <th>11</th>\n",
       "      <td>F1_S4P16__2</td>\n",
       "      <td>0.229678</td>\n",
       "    </tr>\n",
       "    <tr>\n",
       "      <th>19</th>\n",
       "      <td>F1_S4P16__10</td>\n",
       "      <td>0.244921</td>\n",
       "    </tr>\n",
       "    <tr>\n",
       "      <th>35</th>\n",
       "      <td>F1_S5P1906</td>\n",
       "      <td>0.256025</td>\n",
       "    </tr>\n",
       "    <tr>\n",
       "      <th>27</th>\n",
       "      <td>F1_S4P16__18</td>\n",
       "      <td>0.400502</td>\n",
       "    </tr>\n",
       "    <tr>\n",
       "      <th>22</th>\n",
       "      <td>F1_S4P16__13</td>\n",
       "      <td>0.410064</td>\n",
       "    </tr>\n",
       "    <tr>\n",
       "      <th>43</th>\n",
       "      <td>F1_S5P3505</td>\n",
       "      <td>0.434364</td>\n",
       "    </tr>\n",
       "    <tr>\n",
       "      <th>25</th>\n",
       "      <td>F1_S4P16__16</td>\n",
       "      <td>0.450564</td>\n",
       "    </tr>\n",
       "    <tr>\n",
       "      <th>16</th>\n",
       "      <td>F1_S4P16__7</td>\n",
       "      <td>0.553068</td>\n",
       "    </tr>\n",
       "    <tr>\n",
       "      <th>38</th>\n",
       "      <td>F1_S5P33</td>\n",
       "      <td>0.582949</td>\n",
       "    </tr>\n",
       "    <tr>\n",
       "      <th>44</th>\n",
       "      <td>F1_S5P3506</td>\n",
       "      <td>1.302285</td>\n",
       "    </tr>\n",
       "    <tr>\n",
       "      <th>15</th>\n",
       "      <td>F1_S4P16__6</td>\n",
       "      <td>1.493824</td>\n",
       "    </tr>\n",
       "    <tr>\n",
       "      <th>14</th>\n",
       "      <td>F1_S4P16__5</td>\n",
       "      <td>1.542175</td>\n",
       "    </tr>\n",
       "  </tbody>\n",
       "</table>\n",
       "</div>"
      ],
      "text/plain": [
       "   caracteristicas     score\n",
       "7        F1_S2_P14  0.004293\n",
       "23    F1_S4P16__14  0.005197\n",
       "0        F1_S2_P02  0.012202\n",
       "13     F1_S4P16__4  0.048196\n",
       "34      F1_S5P1905  0.051424\n",
       "36      F1_S5P1907  0.068020\n",
       "31      F1_S5P1902  0.091709\n",
       "32      F1_S5P1903  0.095774\n",
       "30      F1_S5P1901  0.095774\n",
       "24    F1_S4P16__15  0.101564\n",
       "33      F1_S5P1904  0.147716\n",
       "20    F1_S4P16__11  0.155552\n",
       "17     F1_S4P16__8  0.219369\n",
       "11     F1_S4P16__2  0.229678\n",
       "19    F1_S4P16__10  0.244921\n",
       "35      F1_S5P1906  0.256025\n",
       "27    F1_S4P16__18  0.400502\n",
       "22    F1_S4P16__13  0.410064\n",
       "43      F1_S5P3505  0.434364\n",
       "25    F1_S4P16__16  0.450564\n",
       "16     F1_S4P16__7  0.553068\n",
       "38        F1_S5P33  0.582949\n",
       "44      F1_S5P3506  1.302285\n",
       "15     F1_S4P16__6  1.493824\n",
       "14     F1_S4P16__5  1.542175"
      ]
     },
     "execution_count": 176,
     "metadata": {},
     "output_type": "execute_result"
    }
   ],
   "source": [
    "smallest = scores.nsmallest(25,'score')\n",
    "smallest"
   ]
  },
  {
   "cell_type": "markdown",
   "id": "f4699c45-7696-4852-97e0-58f30f267e24",
   "metadata": {},
   "source": [
    "Aquí podemos ver 25 de nuestras features que mantiene muy poca relación con nuestra variable target, por tanto vamos a descartar a todas ellas que mantienen una relación menor a `1`."
   ]
  },
  {
   "cell_type": "code",
   "execution_count": 177,
   "id": "1774fe3b-8f07-43e3-8250-e4fe1bf19db9",
   "metadata": {},
   "outputs": [],
   "source": [
    "smallest.set_index(['caracteristicas'], inplace=True)"
   ]
  },
  {
   "cell_type": "code",
   "execution_count": 178,
   "id": "7de3f936-5285-486c-88b7-4022baceedc7",
   "metadata": {},
   "outputs": [],
   "source": [
    "no_relevant = []\n",
    "for i in smallest.score.index:\n",
    "    if smallest.loc[i, :].item() < 1:\n",
    "        no_relevant.append(i)"
   ]
  },
  {
   "cell_type": "code",
   "execution_count": 179,
   "id": "a14d04fc-64f5-490c-86ec-4a0732f7b50a",
   "metadata": {},
   "outputs": [
    {
     "data": {
      "text/plain": [
       "['F1_S2_P14',\n",
       " 'F1_S4P16__14',\n",
       " 'F1_S2_P02',\n",
       " 'F1_S4P16__4',\n",
       " 'F1_S5P1905',\n",
       " 'F1_S5P1907',\n",
       " 'F1_S5P1902',\n",
       " 'F1_S5P1903',\n",
       " 'F1_S5P1901',\n",
       " 'F1_S4P16__15',\n",
       " 'F1_S5P1904',\n",
       " 'F1_S4P16__11',\n",
       " 'F1_S4P16__8',\n",
       " 'F1_S4P16__2',\n",
       " 'F1_S4P16__10',\n",
       " 'F1_S5P1906',\n",
       " 'F1_S4P16__18',\n",
       " 'F1_S4P16__13',\n",
       " 'F1_S5P3505',\n",
       " 'F1_S4P16__16',\n",
       " 'F1_S4P16__7',\n",
       " 'F1_S5P33']"
      ]
     },
     "execution_count": 179,
     "metadata": {},
     "output_type": "execute_result"
    }
   ],
   "source": [
    "no_relevant"
   ]
  },
  {
   "cell_type": "code",
   "execution_count": 180,
   "id": "3418ce3a-b7e2-4258-8023-cf7ebdac6511",
   "metadata": {},
   "outputs": [],
   "source": [
    "data_select = data_select.drop(columns= no_relevant)"
   ]
  },
  {
   "cell_type": "code",
   "execution_count": 181,
   "id": "4d54ceb0-b863-46b4-b361-9d91d239fdc4",
   "metadata": {},
   "outputs": [
    {
     "data": {
      "text/plain": [
       "(9208, 29)"
      ]
     },
     "execution_count": 181,
     "metadata": {},
     "output_type": "execute_result"
    }
   ],
   "source": [
    "data_select.shape"
   ]
  },
  {
   "cell_type": "code",
   "execution_count": 182,
   "id": "67370cfc-9d35-4274-a564-a84c53af9a47",
   "metadata": {},
   "outputs": [],
   "source": [
    "y = data_select['F1_S5P41__7']\n",
    "x = data_select.drop(columns='F1_S5P41__7')"
   ]
  },
  {
   "cell_type": "code",
   "execution_count": 183,
   "id": "3ac4cc22-2fd3-4ca3-81a6-e7a26d33259d",
   "metadata": {},
   "outputs": [
    {
     "data": {
      "text/plain": [
       "Index(['F1_S2_P0701', 'F1_S2_P0702', 'F1_S2_P0703', 'F1_S2_P0704',\n",
       "       'F1_S2_P0705', 'F1_S2_P0706', 'F1_S2_P15', 'F1_S2_P19', 'F1_S2_P25',\n",
       "       'F1_S4P16__3', 'F1_S4P16__5', 'F1_S4P16__6', 'F1_S4P16__9',\n",
       "       'F1_S4P16__12', 'F1_S4P16__17', 'F1_S4P16__19', 'F1_S4P16__99',\n",
       "       'F1_S5P21', 'F1_S5P3501', 'F1_S5P3502', 'F1_S5P3503', 'F1_S5P3504',\n",
       "       'F1_S5P3506', 'F1_S5P3601', 'F1_S5P3602', 'F1_S5P3603', 'F1_S5P42',\n",
       "       'F1_S5P53'],\n",
       "      dtype='object')"
      ]
     },
     "execution_count": 183,
     "metadata": {},
     "output_type": "execute_result"
    }
   ],
   "source": [
    "x.columns"
   ]
  },
  {
   "cell_type": "markdown",
   "id": "ea41fd3f-e5f3-4ca9-af37-07df43eeeb85",
   "metadata": {},
   "source": [
    "### Data Segregation "
   ]
  },
  {
   "cell_type": "code",
   "execution_count": 184,
   "id": "77f03418-7741-4ae3-8517-5e793c241cba",
   "metadata": {},
   "outputs": [],
   "source": [
    "from sklearn.model_selection import train_test_split\n",
    "from sklearn.linear_model import LogisticRegression, LogisticRegressionCV\n",
    "from metric import AIC_score, classificationSummary"
   ]
  },
  {
   "cell_type": "code",
   "execution_count": 185,
   "id": "0758914c-e45f-452f-ae77-868b2fff8846",
   "metadata": {},
   "outputs": [],
   "source": [
    "column_to_exclude = 'F1_S5P41__7'\n",
    "\n",
    "# Obtenemos las dummies de todas las columnas excepto la que queremos excluir\n",
    "encoded_data = pd.get_dummies(data_select.drop(columns=[column_to_exclude]), drop_first=True)\n",
    "\n",
    "# Luego, podemos agregar nuevamente la columna excluida al DataFrame codificado\n",
    "encoded_data[column_to_exclude] = data_select[column_to_exclude]"
   ]
  },
  {
   "cell_type": "code",
   "execution_count": 195,
   "id": "bdb214dc-a964-4fa2-a2b7-c07bf6ec8fb9",
   "metadata": {},
   "outputs": [],
   "source": [
    "encoded_data['F1_S5P41__7'] = encoded_data['F1_S5P41__7'].astype('uint8')"
   ]
  },
  {
   "cell_type": "code",
   "execution_count": 196,
   "id": "5e85d011-33cf-4853-9532-176c88869d02",
   "metadata": {},
   "outputs": [],
   "source": [
    "encoded_y = encoded_data['F1_S5P41__7']\n",
    "encoded_x = encoded_data.drop(columns='F1_S5P41__7')"
   ]
  },
  {
   "cell_type": "code",
   "execution_count": 197,
   "id": "5f972760-7052-45b7-b65c-ab6120ade6c6",
   "metadata": {},
   "outputs": [],
   "source": [
    "## lo que separas el training y test\n",
    "train_x, valid_x, train_y, valid_y = train_test_split(encoded_x, encoded_y, test_size=0.4, random_state=1)"
   ]
  },
  {
   "cell_type": "code",
   "execution_count": 198,
   "id": "0727779c-736b-434c-9c88-bb27537af24d",
   "metadata": {},
   "outputs": [
    {
     "data": {
      "text/plain": [
       "17761    1\n",
       "14815    1\n",
       "15531    1\n",
       "22255    1\n",
       "9547     1\n",
       "        ..\n",
       "3965     1\n",
       "8813     1\n",
       "18617    1\n",
       "25618    1\n",
       "20704    1\n",
       "Name: F1_S5P41__7, Length: 3684, dtype: uint8"
      ]
     },
     "execution_count": 198,
     "metadata": {},
     "output_type": "execute_result"
    }
   ],
   "source": [
    "valid_y"
   ]
  },
  {
   "cell_type": "markdown",
   "id": "e17c6a9f-452e-4a1d-a4ff-7a23a2f77296",
   "metadata": {},
   "source": [
    "### Model Training"
   ]
  },
  {
   "cell_type": "code",
   "execution_count": 199,
   "id": "38361b58-abbf-473d-854e-7532080860fb",
   "metadata": {},
   "outputs": [
    {
     "data": {
      "text/html": [
       "<style>#sk-container-id-7 {color: black;background-color: white;}#sk-container-id-7 pre{padding: 0;}#sk-container-id-7 div.sk-toggleable {background-color: white;}#sk-container-id-7 label.sk-toggleable__label {cursor: pointer;display: block;width: 100%;margin-bottom: 0;padding: 0.3em;box-sizing: border-box;text-align: center;}#sk-container-id-7 label.sk-toggleable__label-arrow:before {content: \"▸\";float: left;margin-right: 0.25em;color: #696969;}#sk-container-id-7 label.sk-toggleable__label-arrow:hover:before {color: black;}#sk-container-id-7 div.sk-estimator:hover label.sk-toggleable__label-arrow:before {color: black;}#sk-container-id-7 div.sk-toggleable__content {max-height: 0;max-width: 0;overflow: hidden;text-align: left;background-color: #f0f8ff;}#sk-container-id-7 div.sk-toggleable__content pre {margin: 0.2em;color: black;border-radius: 0.25em;background-color: #f0f8ff;}#sk-container-id-7 input.sk-toggleable__control:checked~div.sk-toggleable__content {max-height: 200px;max-width: 100%;overflow: auto;}#sk-container-id-7 input.sk-toggleable__control:checked~label.sk-toggleable__label-arrow:before {content: \"▾\";}#sk-container-id-7 div.sk-estimator input.sk-toggleable__control:checked~label.sk-toggleable__label {background-color: #d4ebff;}#sk-container-id-7 div.sk-label input.sk-toggleable__control:checked~label.sk-toggleable__label {background-color: #d4ebff;}#sk-container-id-7 input.sk-hidden--visually {border: 0;clip: rect(1px 1px 1px 1px);clip: rect(1px, 1px, 1px, 1px);height: 1px;margin: -1px;overflow: hidden;padding: 0;position: absolute;width: 1px;}#sk-container-id-7 div.sk-estimator {font-family: monospace;background-color: #f0f8ff;border: 1px dotted black;border-radius: 0.25em;box-sizing: border-box;margin-bottom: 0.5em;}#sk-container-id-7 div.sk-estimator:hover {background-color: #d4ebff;}#sk-container-id-7 div.sk-parallel-item::after {content: \"\";width: 100%;border-bottom: 1px solid gray;flex-grow: 1;}#sk-container-id-7 div.sk-label:hover label.sk-toggleable__label {background-color: #d4ebff;}#sk-container-id-7 div.sk-serial::before {content: \"\";position: absolute;border-left: 1px solid gray;box-sizing: border-box;top: 0;bottom: 0;left: 50%;z-index: 0;}#sk-container-id-7 div.sk-serial {display: flex;flex-direction: column;align-items: center;background-color: white;padding-right: 0.2em;padding-left: 0.2em;position: relative;}#sk-container-id-7 div.sk-item {position: relative;z-index: 1;}#sk-container-id-7 div.sk-parallel {display: flex;align-items: stretch;justify-content: center;background-color: white;position: relative;}#sk-container-id-7 div.sk-item::before, #sk-container-id-7 div.sk-parallel-item::before {content: \"\";position: absolute;border-left: 1px solid gray;box-sizing: border-box;top: 0;bottom: 0;left: 50%;z-index: -1;}#sk-container-id-7 div.sk-parallel-item {display: flex;flex-direction: column;z-index: 1;position: relative;background-color: white;}#sk-container-id-7 div.sk-parallel-item:first-child::after {align-self: flex-end;width: 50%;}#sk-container-id-7 div.sk-parallel-item:last-child::after {align-self: flex-start;width: 50%;}#sk-container-id-7 div.sk-parallel-item:only-child::after {width: 0;}#sk-container-id-7 div.sk-dashed-wrapped {border: 1px dashed gray;margin: 0 0.4em 0.5em 0.4em;box-sizing: border-box;padding-bottom: 0.4em;background-color: white;}#sk-container-id-7 div.sk-label label {font-family: monospace;font-weight: bold;display: inline-block;line-height: 1.2em;}#sk-container-id-7 div.sk-label-container {text-align: center;}#sk-container-id-7 div.sk-container {/* jupyter's `normalize.less` sets `[hidden] { display: none; }` but bootstrap.min.css set `[hidden] { display: none !important; }` so we also need the `!important` here to be able to override the default hidden behavior on the sphinx rendered scikit-learn.org. See: https://github.com/scikit-learn/scikit-learn/issues/21755 */display: inline-block !important;position: relative;}#sk-container-id-7 div.sk-text-repr-fallback {display: none;}</style><div id=\"sk-container-id-7\" class=\"sk-top-container\"><div class=\"sk-text-repr-fallback\"><pre>LogisticRegression(C=1e+42, solver=&#x27;liblinear&#x27;)</pre><b>In a Jupyter environment, please rerun this cell to show the HTML representation or trust the notebook. <br />On GitHub, the HTML representation is unable to render, please try loading this page with nbviewer.org.</b></div><div class=\"sk-container\" hidden><div class=\"sk-item\"><div class=\"sk-estimator sk-toggleable\"><input class=\"sk-toggleable__control sk-hidden--visually\" id=\"sk-estimator-id-7\" type=\"checkbox\" checked><label for=\"sk-estimator-id-7\" class=\"sk-toggleable__label sk-toggleable__label-arrow\">LogisticRegression</label><div class=\"sk-toggleable__content\"><pre>LogisticRegression(C=1e+42, solver=&#x27;liblinear&#x27;)</pre></div></div></div></div></div>"
      ],
      "text/plain": [
       "LogisticRegression(C=1e+42, solver='liblinear')"
      ]
     },
     "execution_count": 199,
     "metadata": {},
     "output_type": "execute_result"
    }
   ],
   "source": [
    "logit_reg = LogisticRegression(penalty=\"l2\", C=1e42, solver='liblinear')\n",
    "logit_reg.fit(train_x, train_y)"
   ]
  },
  {
   "cell_type": "markdown",
   "id": "d1ad692e-7d1f-47b4-902d-4ca7260a0cb8",
   "metadata": {},
   "source": [
    "### Model Evaluation"
   ]
  },
  {
   "cell_type": "code",
   "execution_count": 200,
   "id": "6b2f646e-6f6b-458a-a6d8-3d3aa415e41f",
   "metadata": {},
   "outputs": [
    {
     "name": "stdout",
     "output_type": "stream",
     "text": [
      "intercept  13.386936011482767\n",
      "                   coeff\n",
      "F1_S2_P0701_1   0.285141\n",
      "F1_S2_P0701_2   0.277278\n",
      "F1_S2_P0701_3  -1.299667\n",
      "F1_S2_P0702_1  -0.365844\n",
      "F1_S2_P0702_2  -0.564045\n",
      "F1_S2_P0702_3  -0.005084\n",
      "F1_S2_P0703_1  -0.501584\n",
      "F1_S2_P0703_2  -0.620201\n",
      "F1_S2_P0703_3  -1.830421\n",
      "F1_S2_P0704_1  -0.055375\n",
      "F1_S2_P0704_2   0.028123\n",
      "F1_S2_P0704_3   0.567997\n",
      "F1_S2_P0705_1   0.282988\n",
      "F1_S2_P0705_2   0.219616\n",
      "F1_S2_P0705_3   1.970115\n",
      "F1_S2_P0706_1  -0.102739\n",
      "F1_S2_P0706_2  -0.733338\n",
      "F1_S2_P0706_3   1.043834\n",
      "F1_S2_P15_1    -1.166676\n",
      "F1_S2_P19_1    -0.239079\n",
      "F1_S2_P19_2     0.012906\n",
      "F1_S2_P25_1    -0.324770\n",
      "F1_S4P16__3_1  -1.489032\n",
      "F1_S4P16__5_1   0.046696\n",
      "F1_S4P16__6_1  -0.054210\n",
      "F1_S4P16__9_1  -0.768443\n",
      "F1_S4P16__12_1  0.257775\n",
      "F1_S4P16__17_1 -1.303737\n",
      "F1_S4P16__19_1 -0.109801\n",
      "F1_S4P16__99_1 -2.837584\n",
      "F1_S5P21_1     -0.036841\n",
      "F1_S5P21_2     -2.389769\n",
      "F1_S5P3501_1   -0.339776\n",
      "F1_S5P3502_1   -0.330919\n",
      "F1_S5P3503_1   -0.198673\n",
      "F1_S5P3504_1   -0.541852\n",
      "F1_S5P3506_1   -6.802575\n",
      "F1_S5P3601_1   -0.946135\n",
      "F1_S5P3602_1   -0.391220\n",
      "F1_S5P3603_1   -0.366606\n",
      "F1_S5P42_1     -0.070601\n",
      "F1_S5P42_2     -0.705631\n",
      "F1_S5P53_1     -0.422466\n",
      "F1_S5P53_2     -1.334429\n",
      "\n",
      "AIC -204.82911299316947\n"
     ]
    }
   ],
   "source": [
    "print('intercept ', logit_reg.intercept_[0])\n",
    "#print(pd.DataFrame({'coeff': logit_reg.coef_[0]}, index=X.columns).transpose())\n",
    "print(pd.DataFrame({'coeff': logit_reg.coef_[0]}, index=encoded_x.columns))\n",
    "print()\n",
    "print('AIC', AIC_score(valid_y, logit_reg.predict(valid_x), df = len(train_x.columns) + 1))"
   ]
  },
  {
   "cell_type": "code",
   "execution_count": 202,
   "id": "bc6e8b77-fb6b-4bc7-b84c-4cb0c0ce8314",
   "metadata": {},
   "outputs": [
    {
     "name": "stdout",
     "output_type": "stream",
     "text": [
      "       actual      p(0)      p(1)  predicted\n",
      "17761       1  0.019040  0.980960          1\n",
      "14815       1  0.062163  0.937837          1\n",
      "15531       1  0.000021  0.999979          1\n",
      "22255       1  0.033065  0.966935          1\n",
      "9547        1  0.032186  0.967814          1\n",
      "\n",
      "       actual      p(0)      p(1)  predicted\n",
      "17761       1  0.019040  0.980960          1\n",
      "14815       1  0.062163  0.937837          1\n",
      "15531       1  0.000021  0.999979          1\n",
      "22255       1  0.033065  0.966935          1\n",
      "9547        1  0.032186  0.967814          1\n"
     ]
    }
   ],
   "source": [
    "logit_reg_pred = logit_reg.predict(valid_x)\n",
    "logit_reg_proba = logit_reg.predict_proba(valid_x)\n",
    "logit_result = pd.DataFrame({'actual': valid_y, \n",
    "                             'p(0)': [p[0] for p in logit_reg_proba],\n",
    "                             'p(1)': [p[1] for p in logit_reg_proba],\n",
    "                             'predicted': logit_reg_pred })\n",
    "\n",
    "print(logit_result.head())\n",
    "print()\n",
    "# display four different cases\n",
    "interestingCases = [17761, 14815, 15531, 22255, 9547]\n",
    "print(logit_result.loc[interestingCases])"
   ]
  },
  {
   "cell_type": "code",
   "execution_count": 204,
   "id": "c6accb89-7e4d-407d-8ec5-66baed0092d4",
   "metadata": {},
   "outputs": [
    {
     "name": "stdout",
     "output_type": "stream",
     "text": [
      "Confusion Matrix (Accuracy 0.9591)\n",
      "\n",
      "       Prediction\n",
      "Actual    0    1\n",
      "     0   15  223\n",
      "     1    3 5283\n",
      "\n",
      "Confusion Matrix (Accuracy 0.9460)\n",
      "\n",
      "       Prediction\n",
      "Actual    0    1\n",
      "     0    4  197\n",
      "     1    2 3481\n"
     ]
    }
   ],
   "source": [
    "classificationSummary(train_y, logit_reg.predict(train_x))\n",
    "print()\n",
    "classificationSummary(valid_y, logit_reg.predict(valid_x))"
   ]
  },
  {
   "cell_type": "code",
   "execution_count": 206,
   "id": "c19e90de-82e2-4a78-a3c8-47dce1529064",
   "metadata": {},
   "outputs": [
    {
     "name": "stdout",
     "output_type": "stream",
     "text": [
      "Recall: 0.9994257823715188\n",
      "Recall     ==> 1.00\n",
      "Precision  ==> 0.95\n"
     ]
    }
   ],
   "source": [
    "recall = 3481/(3481+2)\n",
    "print('Recall:', recall)\n",
    "print(f'{\"Recall\":10} ==> {recall:.2f}')\n",
    "print(f'{\"Precision\":10} ==> {3481/(3481+197):.2f}')"
   ]
  },
  {
   "cell_type": "markdown",
   "id": "599bdad0-e997-4e05-9846-7d0f1c68b380",
   "metadata": {},
   "source": [
    "### Conclusiones"
   ]
  },
  {
   "cell_type": "code",
   "execution_count": null,
   "id": "a1e259f1-ade3-4c82-abef-7c46e7aa7a87",
   "metadata": {},
   "outputs": [],
   "source": []
  },
  {
   "cell_type": "markdown",
   "id": "a49dccca-4fc7-400e-896c-e35a177a63ab",
   "metadata": {},
   "source": [
    "### Referencias"
   ]
  },
  {
   "cell_type": "markdown",
   "id": "7d996b67-a440-45c7-a44d-6014f2f1cb50",
   "metadata": {},
   "source": [
    "1. Apuntes tomados de clase\n",
    "2. [Pandas](https://pandas.pydata.org/docs/index.html)\n",
    "2. [Censo Penitenciario Ecuador 2022](https://www.ecuadorencifras.gob.ec/censo-penitenciario-2022/)\n"
   ]
  },
  {
   "cell_type": "code",
   "execution_count": null,
   "id": "ffd7cd4f-d573-4c67-8deb-6cc03b1e35e3",
   "metadata": {},
   "outputs": [],
   "source": []
  }
 ],
 "metadata": {
  "kernelspec": {
   "display_name": "Python 3 (ipykernel)",
   "language": "python",
   "name": "python3"
  },
  "language_info": {
   "codemirror_mode": {
    "name": "ipython",
    "version": 3
   },
   "file_extension": ".py",
   "mimetype": "text/x-python",
   "name": "python",
   "nbconvert_exporter": "python",
   "pygments_lexer": "ipython3",
   "version": "3.10.9"
  }
 },
 "nbformat": 4,
 "nbformat_minor": 5
}
