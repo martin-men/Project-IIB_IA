{
 "cells": [
  {
   "cell_type": "markdown",
   "id": "b6bf0cd6-0477-4e52-9601-27e836e0fdcb",
   "metadata": {},
   "source": [
    "---\n",
    "title: \"Informe Técnico: Proyecto Segundo Bimestre - IAyAA\"\n",
    "author: \" Colcha. A., Charro.D., Chango. G., Mendieta. M., Moyano. S., Christopher. Z.\"\n",
    "lang: es\n",
    "format:\n",
    "    pdf:\n",
    "        toc: true\n",
    "        toc-depth: 8\n",
    "execute:\n",
    "    echo: true\n",
    "    error: false\n",
    "    warning: false\n",
    "code-fold: true\n",
    "jupyter: python3\n",
    "---"
   ]
  },
  {
   "cell_type": "markdown",
   "id": "285959c4-dbc1-4ac1-8f39-31104b672a56",
   "metadata": {},
   "source": [
    "### Introducción"
   ]
  },
  {
   "cell_type": "markdown",
   "id": "11b5b76e-f5c0-47fe-b62d-1b92bd17cb86",
   "metadata": {},
   "source": [
    "### Desarrollo"
   ]
  },
  {
   "cell_type": "markdown",
   "id": "dbac43d8-be29-485a-a701-0682d11fbbf4",
   "metadata": {},
   "source": [
    "Cargamos las librerías y leemos el dataset completo"
   ]
  },
  {
   "cell_type": "code",
   "execution_count": 96,
   "id": "2d980eae-45ad-4f30-a272-bdfd2560914b",
   "metadata": {},
   "outputs": [],
   "source": [
    "import pandas as pd\n",
    "import numpy as np\n",
    "from sklearn.feature_selection import SelectKBest\n",
    "from sklearn.feature_selection import chi2\n",
    "import seaborn as sns \n",
    "import matplotlib.pyplot as plt"
   ]
  },
  {
   "cell_type": "code",
   "execution_count": 8,
   "id": "7e37dc24-c2c0-4559-8e50-7b28d4cac941",
   "metadata": {},
   "outputs": [
    {
     "data": {
      "text/html": [
       "<div>\n",
       "<style scoped>\n",
       "    .dataframe tbody tr th:only-of-type {\n",
       "        vertical-align: middle;\n",
       "    }\n",
       "\n",
       "    .dataframe tbody tr th {\n",
       "        vertical-align: top;\n",
       "    }\n",
       "\n",
       "    .dataframe thead th {\n",
       "        text-align: right;\n",
       "    }\n",
       "</style>\n",
       "<table border=\"1\" class=\"dataframe\">\n",
       "  <thead>\n",
       "    <tr style=\"text-align: right;\">\n",
       "      <th></th>\n",
       "      <th>INTERVIEW__ID</th>\n",
       "      <th>F1_S1_P0</th>\n",
       "      <th>F1_S1_CPPL</th>\n",
       "      <th>F1_S1_I01</th>\n",
       "      <th>F1_S1_I02</th>\n",
       "      <th>F1_S1_I03</th>\n",
       "      <th>F1_S1_I04</th>\n",
       "      <th>F1_S1_I05</th>\n",
       "      <th>F1_S1_I06</th>\n",
       "      <th>F1_S1_I07</th>\n",
       "      <th>...</th>\n",
       "      <th>F1_S6P02__99</th>\n",
       "      <th>F1_S6P02_19</th>\n",
       "      <th>F1_S6P0301</th>\n",
       "      <th>F1_S6P0302</th>\n",
       "      <th>F1_S6P04</th>\n",
       "      <th>F1_SF_F_LGBTI_DIA</th>\n",
       "      <th>F1_SF_F_LGBTI_MES</th>\n",
       "      <th>F1_SF_LGBTI_ANIO</th>\n",
       "      <th>F1_SF_RES_LEV</th>\n",
       "      <th>F1_SF_MOT_NR</th>\n",
       "    </tr>\n",
       "  </thead>\n",
       "  <tbody>\n",
       "    <tr>\n",
       "      <th>20954</th>\n",
       "      <td>cc6b0043f083437c8486e64244b4497e</td>\n",
       "      <td>14</td>\n",
       "      <td>887</td>\n",
       "      <td>13</td>\n",
       "      <td>1301</td>\n",
       "      <td>130155</td>\n",
       "      <td>913</td>\n",
       "      <td>4</td>\n",
       "      <td>2</td>\n",
       "      <td>0</td>\n",
       "      <td>...</td>\n",
       "      <td>0</td>\n",
       "      <td></td>\n",
       "      <td>1</td>\n",
       "      <td>2</td>\n",
       "      <td>2</td>\n",
       "      <td>16</td>\n",
       "      <td>9</td>\n",
       "      <td>2022</td>\n",
       "      <td>1</td>\n",
       "      <td></td>\n",
       "    </tr>\n",
       "    <tr>\n",
       "      <th>17329</th>\n",
       "      <td>03d8d7f6cbbf4f859da751c6764bb9a2</td>\n",
       "      <td>10</td>\n",
       "      <td>1801</td>\n",
       "      <td>9</td>\n",
       "      <td>901</td>\n",
       "      <td>90150</td>\n",
       "      <td>670</td>\n",
       "      <td>1</td>\n",
       "      <td>1</td>\n",
       "      <td>0</td>\n",
       "      <td>...</td>\n",
       "      <td></td>\n",
       "      <td></td>\n",
       "      <td>2</td>\n",
       "      <td>2</td>\n",
       "      <td></td>\n",
       "      <td>25</td>\n",
       "      <td>11</td>\n",
       "      <td>2022</td>\n",
       "      <td>1</td>\n",
       "      <td></td>\n",
       "    </tr>\n",
       "    <tr>\n",
       "      <th>7055</th>\n",
       "      <td>3c56124e2a5a4e9b9926a2f853755b5f</td>\n",
       "      <td>3</td>\n",
       "      <td>59</td>\n",
       "      <td>14</td>\n",
       "      <td>1401</td>\n",
       "      <td>140150</td>\n",
       "      <td>8</td>\n",
       "      <td>5</td>\n",
       "      <td>2</td>\n",
       "      <td>0</td>\n",
       "      <td>...</td>\n",
       "      <td></td>\n",
       "      <td></td>\n",
       "      <td>1</td>\n",
       "      <td>2</td>\n",
       "      <td>2</td>\n",
       "      <td>9</td>\n",
       "      <td>9</td>\n",
       "      <td>2022</td>\n",
       "      <td>1</td>\n",
       "      <td></td>\n",
       "    </tr>\n",
       "    <tr>\n",
       "      <th>10825</th>\n",
       "      <td>4e6fd14ee16e4fcc81a697a2f90e73c7</td>\n",
       "      <td>7</td>\n",
       "      <td>311</td>\n",
       "      <td>13</td>\n",
       "      <td>1301</td>\n",
       "      <td>130155</td>\n",
       "      <td>913</td>\n",
       "      <td>4</td>\n",
       "      <td>2</td>\n",
       "      <td>0</td>\n",
       "      <td>...</td>\n",
       "      <td>0</td>\n",
       "      <td></td>\n",
       "      <td>1</td>\n",
       "      <td>2</td>\n",
       "      <td>4</td>\n",
       "      <td>10</td>\n",
       "      <td>12</td>\n",
       "      <td>2022</td>\n",
       "      <td>1</td>\n",
       "      <td></td>\n",
       "    </tr>\n",
       "    <tr>\n",
       "      <th>5177</th>\n",
       "      <td>fe89f19351924642afb4ffa895870a76</td>\n",
       "      <td>6</td>\n",
       "      <td>1131</td>\n",
       "      <td>9</td>\n",
       "      <td>901</td>\n",
       "      <td>90150</td>\n",
       "      <td>670</td>\n",
       "      <td>1</td>\n",
       "      <td>1</td>\n",
       "      <td>0</td>\n",
       "      <td>...</td>\n",
       "      <td>0</td>\n",
       "      <td></td>\n",
       "      <td>1</td>\n",
       "      <td>2</td>\n",
       "      <td>2</td>\n",
       "      <td>3</td>\n",
       "      <td>12</td>\n",
       "      <td>2022</td>\n",
       "      <td>1</td>\n",
       "      <td></td>\n",
       "    </tr>\n",
       "  </tbody>\n",
       "</table>\n",
       "<p>5 rows × 398 columns</p>\n",
       "</div>"
      ],
      "text/plain": [
       "                          INTERVIEW__ID  F1_S1_P0  F1_S1_CPPL  F1_S1_I01  \\\n",
       "20954  cc6b0043f083437c8486e64244b4497e        14         887         13   \n",
       "17329  03d8d7f6cbbf4f859da751c6764bb9a2        10        1801          9   \n",
       "7055   3c56124e2a5a4e9b9926a2f853755b5f         3          59         14   \n",
       "10825  4e6fd14ee16e4fcc81a697a2f90e73c7         7         311         13   \n",
       "5177   fe89f19351924642afb4ffa895870a76         6        1131          9   \n",
       "\n",
       "       F1_S1_I02  F1_S1_I03  F1_S1_I04  F1_S1_I05  F1_S1_I06  F1_S1_I07  ...  \\\n",
       "20954       1301     130155        913          4          2          0  ...   \n",
       "17329        901      90150        670          1          1          0  ...   \n",
       "7055        1401     140150          8          5          2          0  ...   \n",
       "10825       1301     130155        913          4          2          0  ...   \n",
       "5177         901      90150        670          1          1          0  ...   \n",
       "\n",
       "      F1_S6P02__99  F1_S6P02_19  F1_S6P0301  F1_S6P0302  F1_S6P04  \\\n",
       "20954            0                        1           2         2   \n",
       "17329                                     2           2             \n",
       "7055                                      1           2         2   \n",
       "10825            0                        1           2         4   \n",
       "5177             0                        1           2         2   \n",
       "\n",
       "      F1_SF_F_LGBTI_DIA  F1_SF_F_LGBTI_MES  F1_SF_LGBTI_ANIO  F1_SF_RES_LEV  \\\n",
       "20954                16                  9              2022              1   \n",
       "17329                25                 11              2022              1   \n",
       "7055                  9                  9              2022              1   \n",
       "10825                10                 12              2022              1   \n",
       "5177                  3                 12              2022              1   \n",
       "\n",
       "       F1_SF_MOT_NR  \n",
       "20954                \n",
       "17329                \n",
       "7055                 \n",
       "10825                \n",
       "5177                 \n",
       "\n",
       "[5 rows x 398 columns]"
      ]
     },
     "execution_count": 8,
     "metadata": {},
     "output_type": "execute_result"
    }
   ],
   "source": [
    "data = pd.read_csv('bdd_cp2022.csv', sep = ';', low_memory=False)\n",
    "data.sample(5)"
   ]
  },
  {
   "cell_type": "code",
   "execution_count": 9,
   "id": "3a3f549c-42b1-4cd6-b0be-d47c8c0dafb0",
   "metadata": {},
   "outputs": [
    {
     "data": {
      "text/plain": [
       "(31321, 398)"
      ]
     },
     "execution_count": 9,
     "metadata": {},
     "output_type": "execute_result"
    }
   ],
   "source": [
    "data.shape"
   ]
  },
  {
   "cell_type": "markdown",
   "id": "75903311-e2fe-4b52-af40-d7e210fb700f",
   "metadata": {},
   "source": [
    "### Data preparation\n",
    "Creamos un array con el nombre de las columnas seleccionadas para el proyecto"
   ]
  },
  {
   "cell_type": "code",
   "execution_count": 10,
   "id": "4f456c57-7050-4a85-afbf-08adb30aafb4",
   "metadata": {},
   "outputs": [],
   "source": [
    "features = ['F1_S2_P02', 'F1_S2_P0701','F1_S2_P0702', 'F1_S2_P0703', 'F1_S2_P0704', \n",
    "            'F1_S2_P0705', 'F1_S2_P0706', 'F1_S2_P14', 'F1_S2_P15', 'F1_S2_P19', \n",
    "            'F1_S2_P25', 'F1_S4P16__2', 'F1_S4P16__3', 'F1_S4P16__4', 'F1_S4P16__5', \n",
    "            'F1_S4P16__6','F1_S4P16__7', 'F1_S4P16__8', 'F1_S4P16__9', 'F1_S4P16__10', \n",
    "            'F1_S4P16__11','F1_S4P16__12','F1_S4P16__13', 'F1_S4P16__14', 'F1_S4P16__15', \n",
    "            'F1_S4P16__16','F1_S4P16__17', 'F1_S4P16__18', 'F1_S4P16__19','F1_S4P16__99', \n",
    "            'F1_S5P1901', 'F1_S5P1902', 'F1_S5P1903', 'F1_S5P1904','F1_S5P1905', \n",
    "            'F1_S5P1906', 'F1_S5P1907', 'F1_S5P21', 'F1_S5P33', 'F1_S5P3501',\n",
    "           'F1_S5P3502', 'F1_S5P3503', 'F1_S5P3504', 'F1_S5P3505', 'F1_S5P3506',\n",
    "            'F1_S5P3601','F1_S5P3602', 'F1_S5P3603', 'F1_S5P42', 'F1_S5P53', 'F1_S5P41__7']"
   ]
  },
  {
   "cell_type": "code",
   "execution_count": 107,
   "id": "ce5a34cf-9945-47fc-87a0-b09d2c3da6cb",
   "metadata": {},
   "outputs": [],
   "source": [
    "data_select = pd.DataFrame(columns = features)"
   ]
  },
  {
   "cell_type": "code",
   "execution_count": 108,
   "id": "32240825-e972-4ed9-9bd9-9a3a9d166b4f",
   "metadata": {},
   "outputs": [],
   "source": [
    "for i in features:\n",
    "    data_select[i] = data[i] "
   ]
  },
  {
   "cell_type": "code",
   "execution_count": 109,
   "id": "300e6132-5503-4ca1-9aa2-3ade6b6f884f",
   "metadata": {},
   "outputs": [
    {
     "data": {
      "text/plain": [
       "(31321, 51)"
      ]
     },
     "execution_count": 109,
     "metadata": {},
     "output_type": "execute_result"
    }
   ],
   "source": [
    "data_select.shape"
   ]
  },
  {
   "cell_type": "code",
   "execution_count": 110,
   "id": "1288c727-f3a5-4c3a-9762-2bf37cce49cf",
   "metadata": {},
   "outputs": [
    {
     "data": {
      "text/html": [
       "<div>\n",
       "<style scoped>\n",
       "    .dataframe tbody tr th:only-of-type {\n",
       "        vertical-align: middle;\n",
       "    }\n",
       "\n",
       "    .dataframe tbody tr th {\n",
       "        vertical-align: top;\n",
       "    }\n",
       "\n",
       "    .dataframe thead th {\n",
       "        text-align: right;\n",
       "    }\n",
       "</style>\n",
       "<table border=\"1\" class=\"dataframe\">\n",
       "  <thead>\n",
       "    <tr style=\"text-align: right;\">\n",
       "      <th></th>\n",
       "      <th>F1_S2_P02</th>\n",
       "      <th>F1_S2_P0701</th>\n",
       "      <th>F1_S2_P0702</th>\n",
       "      <th>F1_S2_P0703</th>\n",
       "      <th>F1_S2_P0704</th>\n",
       "      <th>F1_S2_P0705</th>\n",
       "      <th>F1_S2_P0706</th>\n",
       "      <th>F1_S2_P14</th>\n",
       "      <th>F1_S2_P15</th>\n",
       "      <th>F1_S2_P19</th>\n",
       "      <th>...</th>\n",
       "      <th>F1_S5P3503</th>\n",
       "      <th>F1_S5P3504</th>\n",
       "      <th>F1_S5P3505</th>\n",
       "      <th>F1_S5P3506</th>\n",
       "      <th>F1_S5P3601</th>\n",
       "      <th>F1_S5P3602</th>\n",
       "      <th>F1_S5P3603</th>\n",
       "      <th>F1_S5P42</th>\n",
       "      <th>F1_S5P53</th>\n",
       "      <th>F1_S5P41__7</th>\n",
       "    </tr>\n",
       "  </thead>\n",
       "  <tbody>\n",
       "    <tr>\n",
       "      <th>23604</th>\n",
       "      <td>2</td>\n",
       "      <td>1</td>\n",
       "      <td>1</td>\n",
       "      <td>1</td>\n",
       "      <td>1</td>\n",
       "      <td>1</td>\n",
       "      <td>1</td>\n",
       "      <td>2</td>\n",
       "      <td>1</td>\n",
       "      <td></td>\n",
       "      <td>...</td>\n",
       "      <td>2</td>\n",
       "      <td>2</td>\n",
       "      <td>2</td>\n",
       "      <td>2</td>\n",
       "      <td>1</td>\n",
       "      <td>2</td>\n",
       "      <td>2</td>\n",
       "      <td>1</td>\n",
       "      <td>1</td>\n",
       "      <td>0</td>\n",
       "    </tr>\n",
       "    <tr>\n",
       "      <th>16714</th>\n",
       "      <td>1</td>\n",
       "      <td>1</td>\n",
       "      <td>1</td>\n",
       "      <td>1</td>\n",
       "      <td>1</td>\n",
       "      <td>1</td>\n",
       "      <td>1</td>\n",
       "      <td>2</td>\n",
       "      <td>2</td>\n",
       "      <td></td>\n",
       "      <td>...</td>\n",
       "      <td>1</td>\n",
       "      <td>1</td>\n",
       "      <td>2</td>\n",
       "      <td>1</td>\n",
       "      <td>1</td>\n",
       "      <td>1</td>\n",
       "      <td>1</td>\n",
       "      <td>2</td>\n",
       "      <td>1</td>\n",
       "      <td>0</td>\n",
       "    </tr>\n",
       "    <tr>\n",
       "      <th>29753</th>\n",
       "      <td>1</td>\n",
       "      <td>1</td>\n",
       "      <td>1</td>\n",
       "      <td>1</td>\n",
       "      <td>1</td>\n",
       "      <td>1</td>\n",
       "      <td>1</td>\n",
       "      <td>2</td>\n",
       "      <td>2</td>\n",
       "      <td></td>\n",
       "      <td>...</td>\n",
       "      <td>2</td>\n",
       "      <td>2</td>\n",
       "      <td>2</td>\n",
       "      <td>2</td>\n",
       "      <td>2</td>\n",
       "      <td>2</td>\n",
       "      <td>2</td>\n",
       "      <td>1</td>\n",
       "      <td>1</td>\n",
       "      <td>0</td>\n",
       "    </tr>\n",
       "    <tr>\n",
       "      <th>6354</th>\n",
       "      <td>1</td>\n",
       "      <td>1</td>\n",
       "      <td>1</td>\n",
       "      <td>1</td>\n",
       "      <td>1</td>\n",
       "      <td>1</td>\n",
       "      <td>1</td>\n",
       "      <td>2</td>\n",
       "      <td>1</td>\n",
       "      <td>1</td>\n",
       "      <td>...</td>\n",
       "      <td>2</td>\n",
       "      <td>2</td>\n",
       "      <td>2</td>\n",
       "      <td>2</td>\n",
       "      <td>1</td>\n",
       "      <td>1</td>\n",
       "      <td>1</td>\n",
       "      <td>1</td>\n",
       "      <td>1</td>\n",
       "      <td>0</td>\n",
       "    </tr>\n",
       "    <tr>\n",
       "      <th>17476</th>\n",
       "      <td>1</td>\n",
       "      <td>1</td>\n",
       "      <td>1</td>\n",
       "      <td>1</td>\n",
       "      <td>1</td>\n",
       "      <td>1</td>\n",
       "      <td>2</td>\n",
       "      <td>2</td>\n",
       "      <td>1</td>\n",
       "      <td>1</td>\n",
       "      <td>...</td>\n",
       "      <td>2</td>\n",
       "      <td>2</td>\n",
       "      <td>2</td>\n",
       "      <td>2</td>\n",
       "      <td>1</td>\n",
       "      <td>1</td>\n",
       "      <td>1</td>\n",
       "      <td>1</td>\n",
       "      <td>2</td>\n",
       "      <td>0</td>\n",
       "    </tr>\n",
       "  </tbody>\n",
       "</table>\n",
       "<p>5 rows × 51 columns</p>\n",
       "</div>"
      ],
      "text/plain": [
       "       F1_S2_P02  F1_S2_P0701  F1_S2_P0702  F1_S2_P0703  F1_S2_P0704  \\\n",
       "23604          2            1            1            1            1   \n",
       "16714          1            1            1            1            1   \n",
       "29753          1            1            1            1            1   \n",
       "6354           1            1            1            1            1   \n",
       "17476          1            1            1            1            1   \n",
       "\n",
       "       F1_S2_P0705  F1_S2_P0706 F1_S2_P14 F1_S2_P15 F1_S2_P19  ... F1_S5P3503  \\\n",
       "23604            1            1         2         1            ...          2   \n",
       "16714            1            1         2         2            ...          1   \n",
       "29753            1            1         2         2            ...          2   \n",
       "6354             1            1         2         1         1  ...          2   \n",
       "17476            1            2         2         1         1  ...          2   \n",
       "\n",
       "      F1_S5P3504 F1_S5P3505 F1_S5P3506 F1_S5P3601 F1_S5P3602 F1_S5P3603  \\\n",
       "23604          2          2          2          1          2          2   \n",
       "16714          1          2          1          1          1          1   \n",
       "29753          2          2          2          2          2          2   \n",
       "6354           2          2          2          1          1          1   \n",
       "17476          2          2          2          1          1          1   \n",
       "\n",
       "      F1_S5P42 F1_S5P53 F1_S5P41__7  \n",
       "23604        1        1           0  \n",
       "16714        2        1           0  \n",
       "29753        1        1           0  \n",
       "6354         1        1           0  \n",
       "17476        1        2           0  \n",
       "\n",
       "[5 rows x 51 columns]"
      ]
     },
     "execution_count": 110,
     "metadata": {},
     "output_type": "execute_result"
    }
   ],
   "source": [
    "data_select.sample(5)"
   ]
  },
  {
   "cell_type": "code",
   "execution_count": 111,
   "id": "9b135098-98fe-443b-b70b-d4f6a0bdb0a1",
   "metadata": {},
   "outputs": [
    {
     "data": {
      "text/plain": [
       "F1_S2_P02       category\n",
       "F1_S2_P0701     category\n",
       "F1_S2_P0702     category\n",
       "F1_S2_P0703     category\n",
       "F1_S2_P0704     category\n",
       "F1_S2_P0705     category\n",
       "F1_S2_P0706     category\n",
       "F1_S2_P14       category\n",
       "F1_S2_P15       category\n",
       "F1_S2_P19       category\n",
       "F1_S2_P25       category\n",
       "F1_S4P16__2     category\n",
       "F1_S4P16__3     category\n",
       "F1_S4P16__4     category\n",
       "F1_S4P16__5     category\n",
       "F1_S4P16__6     category\n",
       "F1_S4P16__7     category\n",
       "F1_S4P16__8     category\n",
       "F1_S4P16__9     category\n",
       "F1_S4P16__10    category\n",
       "F1_S4P16__11    category\n",
       "F1_S4P16__12    category\n",
       "F1_S4P16__13    category\n",
       "F1_S4P16__14    category\n",
       "F1_S4P16__15    category\n",
       "F1_S4P16__16    category\n",
       "F1_S4P16__17    category\n",
       "F1_S4P16__18    category\n",
       "F1_S4P16__19    category\n",
       "F1_S4P16__99    category\n",
       "F1_S5P1901      category\n",
       "F1_S5P1902      category\n",
       "F1_S5P1903      category\n",
       "F1_S5P1904      category\n",
       "F1_S5P1905      category\n",
       "F1_S5P1906      category\n",
       "F1_S5P1907      category\n",
       "F1_S5P21        category\n",
       "F1_S5P33        category\n",
       "F1_S5P3501      category\n",
       "F1_S5P3502      category\n",
       "F1_S5P3503      category\n",
       "F1_S5P3504      category\n",
       "F1_S5P3505      category\n",
       "F1_S5P3506      category\n",
       "F1_S5P3601      category\n",
       "F1_S5P3602      category\n",
       "F1_S5P3603      category\n",
       "F1_S5P42        category\n",
       "F1_S5P53        category\n",
       "F1_S5P41__7     category\n",
       "dtype: object"
      ]
     },
     "execution_count": 111,
     "metadata": {},
     "output_type": "execute_result"
    }
   ],
   "source": [
    "for i in data_select.columns:\n",
    "    data_select[i] = data_select[i].astype('category')\n",
    "\n",
    "data_select.dtypes"
   ]
  },
  {
   "cell_type": "code",
   "execution_count": 112,
   "id": "1af84527-7eba-4c63-b297-35ec4c32010a",
   "metadata": {},
   "outputs": [
    {
     "name": "stdout",
     "output_type": "stream",
     "text": [
      "F1_S2_P02 : Int64Index([1, 2], dtype='int64')\n",
      "F1_S2_P0701 : Int64Index([1, 2, 3, 4], dtype='int64')\n",
      "F1_S2_P0702 : Int64Index([1, 2, 3, 4], dtype='int64')\n",
      "F1_S2_P0703 : Int64Index([1, 2, 3, 4], dtype='int64')\n",
      "F1_S2_P0704 : Int64Index([1, 2, 3, 4], dtype='int64')\n",
      "F1_S2_P0705 : Int64Index([1, 2, 3, 4], dtype='int64')\n",
      "F1_S2_P0706 : Int64Index([1, 2, 3, 4], dtype='int64')\n",
      "F1_S2_P14 : Index([' ', '1', '2'], dtype='object')\n",
      "F1_S2_P15 : Index([' ', '1', '2'], dtype='object')\n",
      "F1_S2_P19 : Index([' ', '1', '2', '9'], dtype='object')\n",
      "F1_S2_P25 : Index([' ', '1', '2'], dtype='object')\n",
      "F1_S4P16__2 : Index([' ', '0', '1'], dtype='object')\n",
      "F1_S4P16__3 : Index([' ', '0', '1'], dtype='object')\n",
      "F1_S4P16__4 : Index([' ', '0', '1'], dtype='object')\n",
      "F1_S4P16__5 : Index([' ', '0', '1'], dtype='object')\n",
      "F1_S4P16__6 : Index([' ', '0', '1'], dtype='object')\n",
      "F1_S4P16__7 : Index([' ', '0', '1'], dtype='object')\n",
      "F1_S4P16__8 : Index([' ', '0', '1'], dtype='object')\n",
      "F1_S4P16__9 : Index([' ', '0', '1'], dtype='object')\n",
      "F1_S4P16__10 : Index([' ', '0', '1'], dtype='object')\n",
      "F1_S4P16__11 : Index([' ', '0', '1'], dtype='object')\n",
      "F1_S4P16__12 : Index([' ', '0', '1'], dtype='object')\n",
      "F1_S4P16__13 : Index([' ', '0', '1'], dtype='object')\n",
      "F1_S4P16__14 : Index([' ', '0', '1'], dtype='object')\n",
      "F1_S4P16__15 : Index([' ', '0', '1'], dtype='object')\n",
      "F1_S4P16__16 : Index([' ', '0', '1'], dtype='object')\n",
      "F1_S4P16__17 : Index([' ', '0', '1'], dtype='object')\n",
      "F1_S4P16__18 : Index([' ', '0', '1'], dtype='object')\n",
      "F1_S4P16__19 : Index([' ', '0', '1'], dtype='object')\n",
      "F1_S4P16__99 : Index([' ', '0', '1'], dtype='object')\n",
      "F1_S5P1901 : Index([' ', '1', '2', '8'], dtype='object')\n",
      "F1_S5P1902 : Index([' ', '1', '2', '8'], dtype='object')\n",
      "F1_S5P1903 : Index([' ', '1', '2', '8'], dtype='object')\n",
      "F1_S5P1904 : Index([' ', '1', '2', '8'], dtype='object')\n",
      "F1_S5P1905 : Index([' ', '1', '2', '8'], dtype='object')\n",
      "F1_S5P1906 : Index([' ', '1', '2', '8'], dtype='object')\n",
      "F1_S5P1907 : Index([' ', '1', '2', '8'], dtype='object')\n",
      "F1_S5P21 : Index([' ', '1', '2', '8', '9'], dtype='object')\n",
      "F1_S5P33 : Index([' ', '1', '2', '8', '9'], dtype='object')\n",
      "F1_S5P3501 : Index([' ', '1', '2'], dtype='object')\n",
      "F1_S5P3502 : Index([' ', '1', '2'], dtype='object')\n",
      "F1_S5P3503 : Index([' ', '1', '2'], dtype='object')\n",
      "F1_S5P3504 : Index([' ', '1', '2'], dtype='object')\n",
      "F1_S5P3505 : Index([' ', '1', '2'], dtype='object')\n",
      "F1_S5P3506 : Index([' ', '1', '2'], dtype='object')\n",
      "F1_S5P3601 : Index([' ', '1', '2'], dtype='object')\n",
      "F1_S5P3602 : Index([' ', '1', '2'], dtype='object')\n",
      "F1_S5P3603 : Index([' ', '1', '2'], dtype='object')\n",
      "F1_S5P42 : Index([' ', '1', '2', '8', '9'], dtype='object')\n",
      "F1_S5P53 : Index([' ', '1', '2', '8', '9'], dtype='object')\n",
      "F1_S5P41__7 : Index([' ', '0', '1'], dtype='object')\n"
     ]
    }
   ],
   "source": [
    "for i in data_select.columns:\n",
    "    print(i, ':', data_select[i].cat.categories)\n"
   ]
  },
  {
   "cell_type": "code",
   "execution_count": 113,
   "id": "82e748f3-7ea4-4228-b4b6-31d0f9ff0abb",
   "metadata": {},
   "outputs": [],
   "source": [
    "data_select = data_select.replace(' ', np.nan)"
   ]
  },
  {
   "cell_type": "code",
   "execution_count": 114,
   "id": "f4afddfa-5ece-4664-be5a-dfb2b511ebdb",
   "metadata": {},
   "outputs": [],
   "source": [
    "data_select = data_select.dropna()"
   ]
  },
  {
   "cell_type": "code",
   "execution_count": 115,
   "id": "9b6969d6-ea9a-4836-bbf7-703db328c6b2",
   "metadata": {},
   "outputs": [],
   "source": [
    "#Unificando las variables 'No sabe' y 'No responde' en una sola\n",
    "data_select = data_select.replace('8', '3')\n",
    "data_select = data_select.replace('9', '3')"
   ]
  },
  {
   "cell_type": "code",
   "execution_count": 116,
   "id": "6f191156-672f-466d-a550-59d3266dcb50",
   "metadata": {},
   "outputs": [
    {
     "name": "stdout",
     "output_type": "stream",
     "text": [
      "F1_S2_P02 : Int64Index([1, 2], dtype='int64')\n",
      "F1_S2_P0701 : Int64Index([1, 2, 3, 4], dtype='int64')\n",
      "F1_S2_P0702 : Int64Index([1, 2, 3, 4], dtype='int64')\n",
      "F1_S2_P0703 : Int64Index([1, 2, 3, 4], dtype='int64')\n",
      "F1_S2_P0704 : Int64Index([1, 2, 3, 4], dtype='int64')\n",
      "F1_S2_P0705 : Int64Index([1, 2, 3, 4], dtype='int64')\n",
      "F1_S2_P0706 : Int64Index([1, 2, 3, 4], dtype='int64')\n",
      "F1_S2_P14 : Index(['1', '2'], dtype='object')\n",
      "F1_S2_P15 : Index(['1', '2'], dtype='object')\n",
      "F1_S2_P19 : Index(['1', '2', '3'], dtype='object')\n",
      "F1_S2_P25 : Index(['1', '2'], dtype='object')\n",
      "F1_S4P16__2 : Index(['0', '1'], dtype='object')\n",
      "F1_S4P16__3 : Index(['0', '1'], dtype='object')\n",
      "F1_S4P16__4 : Index(['0', '1'], dtype='object')\n",
      "F1_S4P16__5 : Index(['0', '1'], dtype='object')\n",
      "F1_S4P16__6 : Index(['0', '1'], dtype='object')\n",
      "F1_S4P16__7 : Index(['0', '1'], dtype='object')\n",
      "F1_S4P16__8 : Index(['0', '1'], dtype='object')\n",
      "F1_S4P16__9 : Index(['0', '1'], dtype='object')\n",
      "F1_S4P16__10 : Index(['0', '1'], dtype='object')\n",
      "F1_S4P16__11 : Index(['0', '1'], dtype='object')\n",
      "F1_S4P16__12 : Index(['0', '1'], dtype='object')\n",
      "F1_S4P16__13 : Index(['0', '1'], dtype='object')\n",
      "F1_S4P16__14 : Index(['0', '1'], dtype='object')\n",
      "F1_S4P16__15 : Index(['0', '1'], dtype='object')\n",
      "F1_S4P16__16 : Index(['0', '1'], dtype='object')\n",
      "F1_S4P16__17 : Index(['0', '1'], dtype='object')\n",
      "F1_S4P16__18 : Index(['0', '1'], dtype='object')\n",
      "F1_S4P16__19 : Index(['0', '1'], dtype='object')\n",
      "F1_S4P16__99 : Index(['0', '1'], dtype='object')\n",
      "F1_S5P1901 : Index(['1', '2', '3'], dtype='object')\n",
      "F1_S5P1902 : Index(['1', '2', '3'], dtype='object')\n",
      "F1_S5P1903 : Index(['1', '2', '3'], dtype='object')\n",
      "F1_S5P1904 : Index(['1', '2', '3'], dtype='object')\n",
      "F1_S5P1905 : Index(['1', '2', '3'], dtype='object')\n",
      "F1_S5P1906 : Index(['1', '2', '3'], dtype='object')\n",
      "F1_S5P1907 : Index(['1', '2', '3'], dtype='object')\n",
      "F1_S5P21 : Index(['1', '2', '3'], dtype='object')\n",
      "F1_S5P33 : Index(['1', '2', '3'], dtype='object')\n",
      "F1_S5P3501 : Index(['1', '2'], dtype='object')\n",
      "F1_S5P3502 : Index(['1', '2'], dtype='object')\n",
      "F1_S5P3503 : Index(['1', '2'], dtype='object')\n",
      "F1_S5P3504 : Index(['1', '2'], dtype='object')\n",
      "F1_S5P3505 : Index(['1', '2'], dtype='object')\n",
      "F1_S5P3506 : Index(['1', '2'], dtype='object')\n",
      "F1_S5P3601 : Index(['1', '2'], dtype='object')\n",
      "F1_S5P3602 : Index(['1', '2'], dtype='object')\n",
      "F1_S5P3603 : Index(['1', '2'], dtype='object')\n",
      "F1_S5P42 : Index(['1', '2', '3'], dtype='object')\n",
      "F1_S5P53 : Index(['1', '2', '3'], dtype='object')\n",
      "F1_S5P41__7 : Index(['0', '1'], dtype='object')\n"
     ]
    }
   ],
   "source": [
    "for i in data_select.columns:\n",
    "    print(i, ':', data_select[i].cat.categories)"
   ]
  },
  {
   "cell_type": "code",
   "execution_count": 117,
   "id": "a16421f8-3c7c-4c30-8def-ea939b5bef3f",
   "metadata": {},
   "outputs": [],
   "source": [
    "#Group 1\n",
    "\n",
    "\n",
    "columns = ['F1_S2_P0701','F1_S2_P0702', 'F1_S2_P0703', \n",
    "           'F1_S2_P0704', 'F1_S2_P0705', 'F1_S2_P0706']\n",
    "for i in columns:\n",
    "    data_select[i] = data_select[i].cat.rename_categories(['0', '1', '2', '3'])\n",
    "    \n",
    "#Group 2  \n",
    "columns = [  'F1_S2_P19','F1_S5P1901', 'F1_S5P1902', 'F1_S5P1903', 'F1_S5P1904','F1_S5P1905', \n",
    "            'F1_S5P1906', 'F1_S5P1907', 'F1_S5P21', 'F1_S5P33',  'F1_S5P42', 'F1_S5P53']\n",
    "for i in columns:\n",
    "    data_select[i] = data_select[i].cat.rename_categories(['0', '1', '2']) \n",
    "    \n",
    "#Group 3\n",
    "columns = ['F1_S2_P02','F1_S2_P14', \n",
    "           'F1_S2_P15', 'F1_S2_P25','F1_S5P3501',\n",
    "           'F1_S5P3502', 'F1_S5P3503', 'F1_S5P3504', 'F1_S5P3505', 'F1_S5P3506',\n",
    "            'F1_S5P3601','F1_S5P3602', 'F1_S5P3603']\n",
    "for i in columns:\n",
    "    data_select[i] = data_select[i].cat.rename_categories(['0', '1']) \n"
   ]
  },
  {
   "cell_type": "code",
   "execution_count": 123,
   "id": "5722d303-4086-4003-ac7f-c6f59c0be40c",
   "metadata": {},
   "outputs": [
    {
     "name": "stdout",
     "output_type": "stream",
     "text": [
      "F1_S2_P02 : Index(['0', '1'], dtype='object')\n",
      "F1_S2_P0701 : Index(['0', '1', '2', '3'], dtype='object')\n",
      "F1_S2_P0702 : Index(['0', '1', '2', '3'], dtype='object')\n",
      "F1_S2_P0703 : Index(['0', '1', '2', '3'], dtype='object')\n",
      "F1_S2_P0704 : Index(['0', '1', '2', '3'], dtype='object')\n",
      "F1_S2_P0705 : Index(['0', '1', '2', '3'], dtype='object')\n",
      "F1_S2_P0706 : Index(['0', '1', '2', '3'], dtype='object')\n",
      "F1_S2_P14 : Index(['0', '1'], dtype='object')\n",
      "F1_S2_P15 : Index(['0', '1'], dtype='object')\n",
      "F1_S2_P19 : Index(['0', '1', '2'], dtype='object')\n",
      "F1_S2_P25 : Index(['0', '1'], dtype='object')\n",
      "F1_S4P16__2 : Index(['0', '1'], dtype='object')\n",
      "F1_S4P16__3 : Index(['0', '1'], dtype='object')\n",
      "F1_S4P16__4 : Index(['0', '1'], dtype='object')\n",
      "F1_S4P16__5 : Index(['0', '1'], dtype='object')\n",
      "F1_S4P16__6 : Index(['0', '1'], dtype='object')\n",
      "F1_S4P16__7 : Index(['0', '1'], dtype='object')\n",
      "F1_S4P16__8 : Index(['0', '1'], dtype='object')\n",
      "F1_S4P16__9 : Index(['0', '1'], dtype='object')\n",
      "F1_S4P16__10 : Index(['0', '1'], dtype='object')\n",
      "F1_S4P16__11 : Index(['0', '1'], dtype='object')\n",
      "F1_S4P16__12 : Index(['0', '1'], dtype='object')\n",
      "F1_S4P16__13 : Index(['0', '1'], dtype='object')\n",
      "F1_S4P16__14 : Index(['0', '1'], dtype='object')\n",
      "F1_S4P16__15 : Index(['0', '1'], dtype='object')\n",
      "F1_S4P16__16 : Index(['0', '1'], dtype='object')\n",
      "F1_S4P16__17 : Index(['0', '1'], dtype='object')\n",
      "F1_S4P16__18 : Index(['0', '1'], dtype='object')\n",
      "F1_S4P16__19 : Index(['0', '1'], dtype='object')\n",
      "F1_S4P16__99 : Index(['0', '1'], dtype='object')\n",
      "F1_S5P1901 : Index(['0', '1', '2'], dtype='object')\n",
      "F1_S5P1902 : Index(['0', '1', '2'], dtype='object')\n",
      "F1_S5P1903 : Index(['0', '1', '2'], dtype='object')\n",
      "F1_S5P1904 : Index(['0', '1', '2'], dtype='object')\n",
      "F1_S5P1905 : Index(['0', '1', '2'], dtype='object')\n",
      "F1_S5P1906 : Index(['0', '1', '2'], dtype='object')\n",
      "F1_S5P1907 : Index(['0', '1', '2'], dtype='object')\n",
      "F1_S5P21 : Index(['0', '1', '2'], dtype='object')\n",
      "F1_S5P33 : Index(['0', '1', '2'], dtype='object')\n",
      "F1_S5P3501 : Index(['0', '1'], dtype='object')\n",
      "F1_S5P3502 : Index(['0', '1'], dtype='object')\n",
      "F1_S5P3503 : Index(['0', '1'], dtype='object')\n",
      "F1_S5P3504 : Index(['0', '1'], dtype='object')\n",
      "F1_S5P3505 : Index(['0', '1'], dtype='object')\n",
      "F1_S5P3506 : Index(['0', '1'], dtype='object')\n",
      "F1_S5P3601 : Index(['0', '1'], dtype='object')\n",
      "F1_S5P3602 : Index(['0', '1'], dtype='object')\n",
      "F1_S5P3603 : Index(['0', '1'], dtype='object')\n",
      "F1_S5P42 : Index(['0', '1', '2'], dtype='object')\n",
      "F1_S5P53 : Index(['0', '1', '2'], dtype='object')\n",
      "F1_S5P41__7 : Index(['1', '0'], dtype='object')\n"
     ]
    }
   ],
   "source": [
    "for i in data_select.columns:\n",
    "    print(i, ':', data_select[i].cat.categories)"
   ]
  },
  {
   "cell_type": "markdown",
   "id": "f8985a2f-a45f-4be9-9c0b-1728481984af",
   "metadata": {},
   "source": [
    "Ahora que todas nuestras variables estan estandarizadas como variables categóricas respectivamente, debemos preparar la variable target. Dado que en los datos esta corresponde a `No le gustaría participar en ningún eje de tratamiento` por tanto el valor de `1` nos dice que no va a participar de ningún eje y viceversa. \n",
    "\n",
    "Es por eso que, para facilitar la lectura y comprensión de la predicción lo que haremos es invertir estos valores para que la predicción nos responda claramente si `Participaría en algún eje de tratamiento`"
   ]
  },
  {
   "cell_type": "code",
   "execution_count": 124,
   "id": "a7710750-99c9-4dc9-862d-bfc2a32118ce",
   "metadata": {},
   "outputs": [
    {
     "data": {
      "text/plain": [
       "1    8769\n",
       "0     439\n",
       "Name: F1_S5P41__7, dtype: int64"
      ]
     },
     "execution_count": 124,
     "metadata": {},
     "output_type": "execute_result"
    }
   ],
   "source": [
    "data_select['F1_S5P41__7'].value_counts()"
   ]
  },
  {
   "cell_type": "code",
   "execution_count": 125,
   "id": "ef5e3475-29f0-464e-8a42-3af0cc628cdf",
   "metadata": {},
   "outputs": [],
   "source": [
    "data_select['F1_S5P41__7'] = data_select['F1_S5P41__7'].replace('0', 'Si')\n",
    "data_select['F1_S5P41__7'] = data_select['F1_S5P41__7'].replace('1', 'No')"
   ]
  },
  {
   "cell_type": "code",
   "execution_count": 126,
   "id": "5356c8e1-d679-418a-8c9f-8053ab5b3a2e",
   "metadata": {},
   "outputs": [],
   "source": [
    "data_select['F1_S5P41__7'] = data_select['F1_S5P41__7'].replace('Si','1')\n",
    "data_select['F1_S5P41__7'] = data_select['F1_S5P41__7'].replace( 'No', '0')"
   ]
  },
  {
   "cell_type": "code",
   "execution_count": 127,
   "id": "f97a11ea-cb8b-43cc-bd8b-e6a846436100",
   "metadata": {},
   "outputs": [
    {
     "data": {
      "text/plain": [
       "0    8769\n",
       "1     439\n",
       "Name: F1_S5P41__7, dtype: int64"
      ]
     },
     "execution_count": 127,
     "metadata": {},
     "output_type": "execute_result"
    }
   ],
   "source": [
    "data_select['F1_S5P41__7'].value_counts()"
   ]
  },
  {
   "cell_type": "markdown",
   "id": "cecaf77b-e0db-467f-991f-fbad117efe5b",
   "metadata": {},
   "source": [
    "Ahora tenemos claro que `0 = No` y `1 = Si`.\n"
   ]
  },
  {
   "cell_type": "markdown",
   "id": "40496f97-f7d0-43e3-b236-a41e20491b4e",
   "metadata": {},
   "source": [
    "### Feature Selection\n",
    "\n",
    "Ahora que los datos están listos, separamos la variable target de las features para analizar que la importancia de los datos con los que vamos a trabajar "
   ]
  },
  {
   "cell_type": "code",
   "execution_count": 128,
   "id": "d7d80420-381b-402d-bc21-245910c8d274",
   "metadata": {},
   "outputs": [],
   "source": [
    "y = data_select['F1_S5P41__7']\n",
    "x = data_select.drop(columns='F1_S5P41__7')"
   ]
  },
  {
   "cell_type": "code",
   "execution_count": 129,
   "id": "f35226ee-38e9-4bad-b2e7-ab538973b0b3",
   "metadata": {},
   "outputs": [],
   "source": [
    "bestfeatures = SelectKBest(score_func=chi2, k=25)\n",
    "fit = bestfeatures.fit(x,y)\n",
    "df_scores = pd.DataFrame(fit.scores_)  \n",
    "df_columns = pd.DataFrame(x.columns)   #nombres de las features\n",
    "scores = pd.concat([df_columns,df_scores],axis=1)\n",
    "scores.columns = ['caracteristicas','score']"
   ]
  },
  {
   "cell_type": "code",
   "execution_count": 130,
   "id": "1b06c36b-0c47-483d-864e-7bbe51b6cd60",
   "metadata": {},
   "outputs": [
    {
     "data": {
      "text/html": [
       "<div>\n",
       "<style scoped>\n",
       "    .dataframe tbody tr th:only-of-type {\n",
       "        vertical-align: middle;\n",
       "    }\n",
       "\n",
       "    .dataframe tbody tr th {\n",
       "        vertical-align: top;\n",
       "    }\n",
       "\n",
       "    .dataframe thead th {\n",
       "        text-align: right;\n",
       "    }\n",
       "</style>\n",
       "<table border=\"1\" class=\"dataframe\">\n",
       "  <thead>\n",
       "    <tr style=\"text-align: right;\">\n",
       "      <th></th>\n",
       "      <th>caracteristicas</th>\n",
       "      <th>score</th>\n",
       "    </tr>\n",
       "  </thead>\n",
       "  <tbody>\n",
       "    <tr>\n",
       "      <th>7</th>\n",
       "      <td>F1_S2_P14</td>\n",
       "      <td>0.004293</td>\n",
       "    </tr>\n",
       "    <tr>\n",
       "      <th>23</th>\n",
       "      <td>F1_S4P16__14</td>\n",
       "      <td>0.005197</td>\n",
       "    </tr>\n",
       "    <tr>\n",
       "      <th>0</th>\n",
       "      <td>F1_S2_P02</td>\n",
       "      <td>0.012202</td>\n",
       "    </tr>\n",
       "    <tr>\n",
       "      <th>13</th>\n",
       "      <td>F1_S4P16__4</td>\n",
       "      <td>0.048196</td>\n",
       "    </tr>\n",
       "    <tr>\n",
       "      <th>34</th>\n",
       "      <td>F1_S5P1905</td>\n",
       "      <td>0.051424</td>\n",
       "    </tr>\n",
       "    <tr>\n",
       "      <th>36</th>\n",
       "      <td>F1_S5P1907</td>\n",
       "      <td>0.068020</td>\n",
       "    </tr>\n",
       "    <tr>\n",
       "      <th>31</th>\n",
       "      <td>F1_S5P1902</td>\n",
       "      <td>0.091709</td>\n",
       "    </tr>\n",
       "    <tr>\n",
       "      <th>32</th>\n",
       "      <td>F1_S5P1903</td>\n",
       "      <td>0.095774</td>\n",
       "    </tr>\n",
       "    <tr>\n",
       "      <th>30</th>\n",
       "      <td>F1_S5P1901</td>\n",
       "      <td>0.095774</td>\n",
       "    </tr>\n",
       "    <tr>\n",
       "      <th>24</th>\n",
       "      <td>F1_S4P16__15</td>\n",
       "      <td>0.101564</td>\n",
       "    </tr>\n",
       "    <tr>\n",
       "      <th>33</th>\n",
       "      <td>F1_S5P1904</td>\n",
       "      <td>0.147716</td>\n",
       "    </tr>\n",
       "    <tr>\n",
       "      <th>20</th>\n",
       "      <td>F1_S4P16__11</td>\n",
       "      <td>0.155552</td>\n",
       "    </tr>\n",
       "    <tr>\n",
       "      <th>17</th>\n",
       "      <td>F1_S4P16__8</td>\n",
       "      <td>0.219369</td>\n",
       "    </tr>\n",
       "    <tr>\n",
       "      <th>11</th>\n",
       "      <td>F1_S4P16__2</td>\n",
       "      <td>0.229678</td>\n",
       "    </tr>\n",
       "    <tr>\n",
       "      <th>19</th>\n",
       "      <td>F1_S4P16__10</td>\n",
       "      <td>0.244921</td>\n",
       "    </tr>\n",
       "    <tr>\n",
       "      <th>35</th>\n",
       "      <td>F1_S5P1906</td>\n",
       "      <td>0.256025</td>\n",
       "    </tr>\n",
       "    <tr>\n",
       "      <th>27</th>\n",
       "      <td>F1_S4P16__18</td>\n",
       "      <td>0.400502</td>\n",
       "    </tr>\n",
       "    <tr>\n",
       "      <th>22</th>\n",
       "      <td>F1_S4P16__13</td>\n",
       "      <td>0.410064</td>\n",
       "    </tr>\n",
       "    <tr>\n",
       "      <th>43</th>\n",
       "      <td>F1_S5P3505</td>\n",
       "      <td>0.434364</td>\n",
       "    </tr>\n",
       "    <tr>\n",
       "      <th>25</th>\n",
       "      <td>F1_S4P16__16</td>\n",
       "      <td>0.450564</td>\n",
       "    </tr>\n",
       "    <tr>\n",
       "      <th>16</th>\n",
       "      <td>F1_S4P16__7</td>\n",
       "      <td>0.553068</td>\n",
       "    </tr>\n",
       "    <tr>\n",
       "      <th>38</th>\n",
       "      <td>F1_S5P33</td>\n",
       "      <td>0.582949</td>\n",
       "    </tr>\n",
       "    <tr>\n",
       "      <th>44</th>\n",
       "      <td>F1_S5P3506</td>\n",
       "      <td>1.302285</td>\n",
       "    </tr>\n",
       "    <tr>\n",
       "      <th>15</th>\n",
       "      <td>F1_S4P16__6</td>\n",
       "      <td>1.493824</td>\n",
       "    </tr>\n",
       "    <tr>\n",
       "      <th>14</th>\n",
       "      <td>F1_S4P16__5</td>\n",
       "      <td>1.542175</td>\n",
       "    </tr>\n",
       "  </tbody>\n",
       "</table>\n",
       "</div>"
      ],
      "text/plain": [
       "   caracteristicas     score\n",
       "7        F1_S2_P14  0.004293\n",
       "23    F1_S4P16__14  0.005197\n",
       "0        F1_S2_P02  0.012202\n",
       "13     F1_S4P16__4  0.048196\n",
       "34      F1_S5P1905  0.051424\n",
       "36      F1_S5P1907  0.068020\n",
       "31      F1_S5P1902  0.091709\n",
       "32      F1_S5P1903  0.095774\n",
       "30      F1_S5P1901  0.095774\n",
       "24    F1_S4P16__15  0.101564\n",
       "33      F1_S5P1904  0.147716\n",
       "20    F1_S4P16__11  0.155552\n",
       "17     F1_S4P16__8  0.219369\n",
       "11     F1_S4P16__2  0.229678\n",
       "19    F1_S4P16__10  0.244921\n",
       "35      F1_S5P1906  0.256025\n",
       "27    F1_S4P16__18  0.400502\n",
       "22    F1_S4P16__13  0.410064\n",
       "43      F1_S5P3505  0.434364\n",
       "25    F1_S4P16__16  0.450564\n",
       "16     F1_S4P16__7  0.553068\n",
       "38        F1_S5P33  0.582949\n",
       "44      F1_S5P3506  1.302285\n",
       "15     F1_S4P16__6  1.493824\n",
       "14     F1_S4P16__5  1.542175"
      ]
     },
     "execution_count": 130,
     "metadata": {},
     "output_type": "execute_result"
    }
   ],
   "source": [
    "smallest = scores.nsmallest(25,'score')\n",
    "smallest"
   ]
  },
  {
   "cell_type": "markdown",
   "id": "f4699c45-7696-4852-97e0-58f30f267e24",
   "metadata": {},
   "source": [
    "Aquí podemos ver 25 de nuestras features que mantiene muy poca relación con nuestra variable target, por tanto vamos a descartar a todas ellas que mantienen una relación menor a `1`."
   ]
  },
  {
   "cell_type": "code",
   "execution_count": 131,
   "id": "1774fe3b-8f07-43e3-8250-e4fe1bf19db9",
   "metadata": {},
   "outputs": [],
   "source": [
    "smallest.set_index(['caracteristicas'], inplace=True)"
   ]
  },
  {
   "cell_type": "code",
   "execution_count": 132,
   "id": "7de3f936-5285-486c-88b7-4022baceedc7",
   "metadata": {},
   "outputs": [],
   "source": [
    "no_relevant = []\n",
    "for i in smallest.score.index:\n",
    "    if smallest.loc[i, :].item() < 1:\n",
    "        no_relevant.append(i)"
   ]
  },
  {
   "cell_type": "code",
   "execution_count": 133,
   "id": "a14d04fc-64f5-490c-86ec-4a0732f7b50a",
   "metadata": {},
   "outputs": [
    {
     "data": {
      "text/plain": [
       "['F1_S2_P14',\n",
       " 'F1_S4P16__14',\n",
       " 'F1_S2_P02',\n",
       " 'F1_S4P16__4',\n",
       " 'F1_S5P1905',\n",
       " 'F1_S5P1907',\n",
       " 'F1_S5P1902',\n",
       " 'F1_S5P1903',\n",
       " 'F1_S5P1901',\n",
       " 'F1_S4P16__15',\n",
       " 'F1_S5P1904',\n",
       " 'F1_S4P16__11',\n",
       " 'F1_S4P16__8',\n",
       " 'F1_S4P16__2',\n",
       " 'F1_S4P16__10',\n",
       " 'F1_S5P1906',\n",
       " 'F1_S4P16__18',\n",
       " 'F1_S4P16__13',\n",
       " 'F1_S5P3505',\n",
       " 'F1_S4P16__16',\n",
       " 'F1_S4P16__7',\n",
       " 'F1_S5P33']"
      ]
     },
     "execution_count": 133,
     "metadata": {},
     "output_type": "execute_result"
    }
   ],
   "source": [
    "no_relevant"
   ]
  },
  {
   "cell_type": "code",
   "execution_count": 134,
   "id": "3418ce3a-b7e2-4258-8023-cf7ebdac6511",
   "metadata": {},
   "outputs": [],
   "source": [
    "data_select = data_select.drop(columns= no_relevant)"
   ]
  },
  {
   "cell_type": "code",
   "execution_count": 135,
   "id": "4d54ceb0-b863-46b4-b361-9d91d239fdc4",
   "metadata": {},
   "outputs": [
    {
     "data": {
      "text/plain": [
       "(9208, 29)"
      ]
     },
     "execution_count": 135,
     "metadata": {},
     "output_type": "execute_result"
    }
   ],
   "source": [
    "data_select.shape"
   ]
  },
  {
   "cell_type": "code",
   "execution_count": 136,
   "id": "67370cfc-9d35-4274-a564-a84c53af9a47",
   "metadata": {},
   "outputs": [],
   "source": [
    "y = data_select['F1_S5P41__7']\n",
    "x = data_select.drop(columns='F1_S5P41__7')"
   ]
  },
  {
   "cell_type": "code",
   "execution_count": 137,
   "id": "3ac4cc22-2fd3-4ca3-81a6-e7a26d33259d",
   "metadata": {},
   "outputs": [
    {
     "data": {
      "text/plain": [
       "Index(['F1_S2_P0701', 'F1_S2_P0702', 'F1_S2_P0703', 'F1_S2_P0704',\n",
       "       'F1_S2_P0705', 'F1_S2_P0706', 'F1_S2_P15', 'F1_S2_P19', 'F1_S2_P25',\n",
       "       'F1_S4P16__3', 'F1_S4P16__5', 'F1_S4P16__6', 'F1_S4P16__9',\n",
       "       'F1_S4P16__12', 'F1_S4P16__17', 'F1_S4P16__19', 'F1_S4P16__99',\n",
       "       'F1_S5P21', 'F1_S5P3501', 'F1_S5P3502', 'F1_S5P3503', 'F1_S5P3504',\n",
       "       'F1_S5P3506', 'F1_S5P3601', 'F1_S5P3602', 'F1_S5P3603', 'F1_S5P42',\n",
       "       'F1_S5P53'],\n",
       "      dtype='object')"
      ]
     },
     "execution_count": 137,
     "metadata": {},
     "output_type": "execute_result"
    }
   ],
   "source": [
    "x.columns"
   ]
  },
  {
   "cell_type": "markdown",
   "id": "ea41fd3f-e5f3-4ca9-af37-07df43eeeb85",
   "metadata": {},
   "source": [
    "### Data Segregation "
   ]
  },
  {
   "cell_type": "code",
   "execution_count": null,
   "id": "5f972760-7052-45b7-b65c-ab6120ade6c6",
   "metadata": {},
   "outputs": [],
   "source": [
    "## lo que separas el training y test"
   ]
  },
  {
   "cell_type": "markdown",
   "id": "e17c6a9f-452e-4a1d-a4ff-7a23a2f77296",
   "metadata": {},
   "source": [
    "### Model Training"
   ]
  },
  {
   "cell_type": "code",
   "execution_count": null,
   "id": "38361b58-abbf-473d-854e-7532080860fb",
   "metadata": {},
   "outputs": [],
   "source": []
  },
  {
   "cell_type": "markdown",
   "id": "d1ad692e-7d1f-47b4-902d-4ca7260a0cb8",
   "metadata": {},
   "source": [
    "### Model Evaluation"
   ]
  },
  {
   "cell_type": "code",
   "execution_count": null,
   "id": "6b2f646e-6f6b-458a-a6d8-3d3aa415e41f",
   "metadata": {},
   "outputs": [],
   "source": []
  },
  {
   "cell_type": "markdown",
   "id": "599bdad0-e997-4e05-9846-7d0f1c68b380",
   "metadata": {},
   "source": [
    "### Conclusiones"
   ]
  },
  {
   "cell_type": "code",
   "execution_count": null,
   "id": "a1e259f1-ade3-4c82-abef-7c46e7aa7a87",
   "metadata": {},
   "outputs": [],
   "source": []
  },
  {
   "cell_type": "markdown",
   "id": "a49dccca-4fc7-400e-896c-e35a177a63ab",
   "metadata": {},
   "source": [
    "### Referencias"
   ]
  },
  {
   "cell_type": "markdown",
   "id": "7d996b67-a440-45c7-a44d-6014f2f1cb50",
   "metadata": {},
   "source": [
    "1. Apuntes tomados de clase\n",
    "2. [Pandas](https://pandas.pydata.org/docs/index.html)\n",
    "2. [Censo Penitenciario Ecuador 2022](https://www.ecuadorencifras.gob.ec/censo-penitenciario-2022/)\n"
   ]
  },
  {
   "cell_type": "code",
   "execution_count": null,
   "id": "ffd7cd4f-d573-4c67-8deb-6cc03b1e35e3",
   "metadata": {},
   "outputs": [],
   "source": []
  }
 ],
 "metadata": {
  "kernelspec": {
   "display_name": "Python 3 (ipykernel)",
   "language": "python",
   "name": "python3"
  },
  "language_info": {
   "codemirror_mode": {
    "name": "ipython",
    "version": 3
   },
   "file_extension": ".py",
   "mimetype": "text/x-python",
   "name": "python",
   "nbconvert_exporter": "python",
   "pygments_lexer": "ipython3",
   "version": "3.10.9"
  }
 },
 "nbformat": 4,
 "nbformat_minor": 5
}
